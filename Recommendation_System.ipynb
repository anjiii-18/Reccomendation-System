{
  "nbformat": 4,
  "nbformat_minor": 0,
  "metadata": {
    "colab": {
      "name": "Recommendation System.ipynb",
      "provenance": [],
      "toc_visible": true
    },
    "kernelspec": {
      "name": "python3",
      "display_name": "Python 3"
    },
    "language_info": {
      "name": "python"
    }
  },
  "cells": [
    {
      "cell_type": "markdown",
      "metadata": {
        "id": "Sq7CQgEs-YR6"
      },
      "source": [
        "# **Recommendation System**"
      ]
    },
    {
      "cell_type": "markdown",
      "metadata": {
        "id": "mIX30MKvWM7Q"
      },
      "source": [
        "A recommendation system, is a subclass of information filtering system that seeks to predict the best “preference” a user would give to an item which is typically obtained by optimizing for objectives like total clicks, total uploads, and overall searches."
      ]
    },
    {
      "cell_type": "markdown",
      "metadata": {
        "id": "i6Sjgb__V1yM"
      },
      "source": [
        "***Content Based Filtering Methods:*** \n",
        "\n",
        "In these types of systems, the descriptive attributes of items/users are used to make recommendations. Here, the ratings and interaction behavior of users are combined with the content information available in the items."
      ]
    },
    {
      "cell_type": "markdown",
      "metadata": {
        "id": "GjtXMHrDVL03"
      },
      "source": [
        "***Collaborative Filtering Methods:*** \n",
        "\n",
        "These types of models use the collaborative power of the ratings provided by multiple users to make recommendations and rely mostly on leveraging either inter-item correlations or inter-user interactions for the prediction process. It relies on an underlying notion that two users who rate items similarly are likely to have comparable preferences for other items.\n",
        "There are two types of methods that are commonly used in collaborative filtering:\n",
        "\n",
        "**Memory-based methods**: Here, ratings of user-item combinations are predicted based on their neighborhoods. These neighborhoods can be further defined as (1) User Based (2) Item Based\n",
        "\n",
        "**Model-based methods**: Here, ML techniques are used to learn model parameters within the context of a given optimization framework."
      ]
    },
    {
      "cell_type": "markdown",
      "metadata": {
        "id": "O8TUoxNA-e2w"
      },
      "source": [
        "### Imports"
      ]
    },
    {
      "cell_type": "code",
      "metadata": {
        "id": "SehXhsKBOhWU"
      },
      "source": [
        "import numpy as np\n",
        "import pandas as pd\n",
        "import matplotlib.pyplot as plt\n",
        "import pandas_profiling\n",
        "from scipy.sparse import csr_matrix\n",
        "\n",
        "# %matplotlib inline\n",
        "plt.style.use(\"ggplot\")\n",
        "\n",
        "import sklearn"
      ],
      "execution_count": null,
      "outputs": []
    },
    {
      "cell_type": "code",
      "metadata": {
        "colab": {
          "base_uri": "https://localhost:8080/",
          "height": 195
        },
        "id": "D1x1tO9IPIuM",
        "outputId": "bbd9201a-8b34-4b44-8f47-8a19f0f2bc65"
      },
      "source": [
        "user = pd.read_csv('/content/users.csv')\n",
        "user = user.dropna()\n",
        "user.rename(columns = {'_id':'user_id'}, inplace = True)\n",
        "user.head()"
      ],
      "execution_count": null,
      "outputs": [
        {
          "output_type": "execute_result",
          "data": {
            "text/html": [
              "<div>\n",
              "<style scoped>\n",
              "    .dataframe tbody tr th:only-of-type {\n",
              "        vertical-align: middle;\n",
              "    }\n",
              "\n",
              "    .dataframe tbody tr th {\n",
              "        vertical-align: top;\n",
              "    }\n",
              "\n",
              "    .dataframe thead th {\n",
              "        text-align: right;\n",
              "    }\n",
              "</style>\n",
              "<table border=\"1\" class=\"dataframe\">\n",
              "  <thead>\n",
              "    <tr style=\"text-align: right;\">\n",
              "      <th></th>\n",
              "      <th>user_id</th>\n",
              "      <th>name</th>\n",
              "      <th>gender</th>\n",
              "      <th>academics</th>\n",
              "    </tr>\n",
              "  </thead>\n",
              "  <tbody>\n",
              "    <tr>\n",
              "      <th>0</th>\n",
              "      <td>5d60098a653a331687083238</td>\n",
              "      <td>Nivesh Singh Chauhan</td>\n",
              "      <td>male</td>\n",
              "      <td>undergraduate</td>\n",
              "    </tr>\n",
              "    <tr>\n",
              "      <th>1</th>\n",
              "      <td>5d610ae1653a331687083239</td>\n",
              "      <td>Gaurav Sharma</td>\n",
              "      <td>male</td>\n",
              "      <td>graduate</td>\n",
              "    </tr>\n",
              "    <tr>\n",
              "      <th>2</th>\n",
              "      <td>5d618359fc5fcf3bdd9a0910</td>\n",
              "      <td>Akshay Mishra</td>\n",
              "      <td>male</td>\n",
              "      <td>undergraduate</td>\n",
              "    </tr>\n",
              "    <tr>\n",
              "      <th>3</th>\n",
              "      <td>5d6d2bb87fa40e1417a49315</td>\n",
              "      <td>Saksham Mathur</td>\n",
              "      <td>male</td>\n",
              "      <td>undergraduate</td>\n",
              "    </tr>\n",
              "    <tr>\n",
              "      <th>4</th>\n",
              "      <td>5d7c994d5720533e15c3b1e9</td>\n",
              "      <td>Varun Chowhan</td>\n",
              "      <td>male</td>\n",
              "      <td>undergraduate</td>\n",
              "    </tr>\n",
              "  </tbody>\n",
              "</table>\n",
              "</div>"
            ],
            "text/plain": [
              "                    user_id                  name gender      academics\n",
              "0  5d60098a653a331687083238  Nivesh Singh Chauhan   male  undergraduate\n",
              "1  5d610ae1653a331687083239         Gaurav Sharma   male       graduate\n",
              "2  5d618359fc5fcf3bdd9a0910         Akshay Mishra   male  undergraduate\n",
              "3  5d6d2bb87fa40e1417a49315        Saksham Mathur   male  undergraduate\n",
              "4  5d7c994d5720533e15c3b1e9         Varun Chowhan   male  undergraduate"
            ]
          },
          "metadata": {
            "tags": []
          },
          "execution_count": 2
        }
      ]
    },
    {
      "cell_type": "code",
      "metadata": {
        "colab": {
          "base_uri": "https://localhost:8080/",
          "height": 195
        },
        "id": "uZihtesGPaeJ",
        "outputId": "66a02575-048f-4255-b6aa-3fd285e9c67f"
      },
      "source": [
        "posts = pd.read_csv('/content/posts.csv')\n",
        "posts = posts.dropna()\n",
        "posts.rename(columns = {'_id':'post_id'}, inplace = True)\n",
        "posts.head()"
      ],
      "execution_count": null,
      "outputs": [
        {
          "output_type": "execute_result",
          "data": {
            "text/html": [
              "<div>\n",
              "<style scoped>\n",
              "    .dataframe tbody tr th:only-of-type {\n",
              "        vertical-align: middle;\n",
              "    }\n",
              "\n",
              "    .dataframe tbody tr th {\n",
              "        vertical-align: top;\n",
              "    }\n",
              "\n",
              "    .dataframe thead th {\n",
              "        text-align: right;\n",
              "    }\n",
              "</style>\n",
              "<table border=\"1\" class=\"dataframe\">\n",
              "  <thead>\n",
              "    <tr style=\"text-align: right;\">\n",
              "      <th></th>\n",
              "      <th>post_id</th>\n",
              "      <th>title</th>\n",
              "      <th>category</th>\n",
              "      <th>post_type</th>\n",
              "    </tr>\n",
              "  </thead>\n",
              "  <tbody>\n",
              "    <tr>\n",
              "      <th>0</th>\n",
              "      <td>5d62abaa65218653a132c956</td>\n",
              "      <td>hello there</td>\n",
              "      <td>Plant Biotechnology</td>\n",
              "      <td>blog</td>\n",
              "    </tr>\n",
              "    <tr>\n",
              "      <th>1</th>\n",
              "      <td>5d6d39567fa40e1417a4931c</td>\n",
              "      <td>Ml and AI</td>\n",
              "      <td>Artificial Intelligence|Machine Learning|Infor...</td>\n",
              "      <td>blog</td>\n",
              "    </tr>\n",
              "    <tr>\n",
              "      <th>2</th>\n",
              "      <td>5d7d23315720533e15c3b1ee</td>\n",
              "      <td>What is an Operating System ?</td>\n",
              "      <td>Operating Systems</td>\n",
              "      <td>blog</td>\n",
              "    </tr>\n",
              "    <tr>\n",
              "      <th>3</th>\n",
              "      <td>5d7d405e5720533e15c3b1f3</td>\n",
              "      <td>Lord Shiva</td>\n",
              "      <td>Drawings</td>\n",
              "      <td>artwork</td>\n",
              "    </tr>\n",
              "    <tr>\n",
              "      <th>4</th>\n",
              "      <td>5d80dfbc6c53455f896e600e</td>\n",
              "      <td>How Competition law evolved?</td>\n",
              "      <td>Competition Laws</td>\n",
              "      <td>blog</td>\n",
              "    </tr>\n",
              "  </tbody>\n",
              "</table>\n",
              "</div>"
            ],
            "text/plain": [
              "                    post_id  ...  post_type\n",
              "0  5d62abaa65218653a132c956  ...       blog\n",
              "1  5d6d39567fa40e1417a4931c  ...       blog\n",
              "2  5d7d23315720533e15c3b1ee  ...       blog\n",
              "3  5d7d405e5720533e15c3b1f3  ...    artwork\n",
              "4  5d80dfbc6c53455f896e600e  ...       blog\n",
              "\n",
              "[5 rows x 4 columns]"
            ]
          },
          "metadata": {
            "tags": []
          },
          "execution_count": 3
        }
      ]
    },
    {
      "cell_type": "code",
      "metadata": {
        "colab": {
          "base_uri": "https://localhost:8080/",
          "height": 195
        },
        "id": "_rD8QAv3PYJu",
        "outputId": "1dfd1f71-80ed-4e04-d1c2-6df921391d75"
      },
      "source": [
        "views = pd.read_csv('/content/views.csv')\n",
        "views = views.dropna()\n",
        "views.head()"
      ],
      "execution_count": null,
      "outputs": [
        {
          "output_type": "execute_result",
          "data": {
            "text/html": [
              "<div>\n",
              "<style scoped>\n",
              "    .dataframe tbody tr th:only-of-type {\n",
              "        vertical-align: middle;\n",
              "    }\n",
              "\n",
              "    .dataframe tbody tr th {\n",
              "        vertical-align: top;\n",
              "    }\n",
              "\n",
              "    .dataframe thead th {\n",
              "        text-align: right;\n",
              "    }\n",
              "</style>\n",
              "<table border=\"1\" class=\"dataframe\">\n",
              "  <thead>\n",
              "    <tr style=\"text-align: right;\">\n",
              "      <th></th>\n",
              "      <th>user_id</th>\n",
              "      <th>post_id</th>\n",
              "      <th>timestamp</th>\n",
              "    </tr>\n",
              "  </thead>\n",
              "  <tbody>\n",
              "    <tr>\n",
              "      <th>0</th>\n",
              "      <td>5df49b32cc709107827fb3c7</td>\n",
              "      <td>5ec821ddec493f4a2655889e</td>\n",
              "      <td>2020-06-01T10:46:45.131Z</td>\n",
              "    </tr>\n",
              "    <tr>\n",
              "      <th>1</th>\n",
              "      <td>5ed3748576027d35905ccaab</td>\n",
              "      <td>5ed4cbadbd514d602c1531a6</td>\n",
              "      <td>2020-06-01T09:39:20.021Z</td>\n",
              "    </tr>\n",
              "    <tr>\n",
              "      <th>2</th>\n",
              "      <td>5ed0defa76027d35905cc2de</td>\n",
              "      <td>5eac305f10426255a7aa9dd3</td>\n",
              "      <td>2020-06-01T08:12:42.682Z</td>\n",
              "    </tr>\n",
              "    <tr>\n",
              "      <th>3</th>\n",
              "      <td>5ed0defa76027d35905cc2de</td>\n",
              "      <td>5ed1ff0276027d35905cc60d</td>\n",
              "      <td>2020-06-01T08:10:23.880Z</td>\n",
              "    </tr>\n",
              "    <tr>\n",
              "      <th>4</th>\n",
              "      <td>5ed0defa76027d35905cc2de</td>\n",
              "      <td>5ed3820f76027d35905ccac8</td>\n",
              "      <td>2020-06-01T08:08:54.124Z</td>\n",
              "    </tr>\n",
              "  </tbody>\n",
              "</table>\n",
              "</div>"
            ],
            "text/plain": [
              "                    user_id                   post_id                 timestamp\n",
              "0  5df49b32cc709107827fb3c7  5ec821ddec493f4a2655889e  2020-06-01T10:46:45.131Z\n",
              "1  5ed3748576027d35905ccaab  5ed4cbadbd514d602c1531a6  2020-06-01T09:39:20.021Z\n",
              "2  5ed0defa76027d35905cc2de  5eac305f10426255a7aa9dd3  2020-06-01T08:12:42.682Z\n",
              "3  5ed0defa76027d35905cc2de  5ed1ff0276027d35905cc60d  2020-06-01T08:10:23.880Z\n",
              "4  5ed0defa76027d35905cc2de  5ed3820f76027d35905ccac8  2020-06-01T08:08:54.124Z"
            ]
          },
          "metadata": {
            "tags": []
          },
          "execution_count": 4
        }
      ]
    },
    {
      "cell_type": "markdown",
      "metadata": {
        "id": "TzoDNvzY-y-_"
      },
      "source": [
        "## Analyzing Data"
      ]
    },
    {
      "cell_type": "code",
      "metadata": {
        "colab": {
          "base_uri": "https://localhost:8080/",
          "height": 373
        },
        "id": "1wX1JS-ZWiXn",
        "outputId": "e9beb5a4-2334-40b3-f2b6-b57415be190f"
      },
      "source": [
        "popular = pd.DataFrame(posts.groupby('category')['post_id'].count())\n",
        "popular.head(10)"
      ],
      "execution_count": null,
      "outputs": [
        {
          "output_type": "execute_result",
          "data": {
            "text/html": [
              "<div>\n",
              "<style scoped>\n",
              "    .dataframe tbody tr th:only-of-type {\n",
              "        vertical-align: middle;\n",
              "    }\n",
              "\n",
              "    .dataframe tbody tr th {\n",
              "        vertical-align: top;\n",
              "    }\n",
              "\n",
              "    .dataframe thead th {\n",
              "        text-align: right;\n",
              "    }\n",
              "</style>\n",
              "<table border=\"1\" class=\"dataframe\">\n",
              "  <thead>\n",
              "    <tr style=\"text-align: right;\">\n",
              "      <th></th>\n",
              "      <th>post_id</th>\n",
              "    </tr>\n",
              "    <tr>\n",
              "      <th>category</th>\n",
              "      <th></th>\n",
              "    </tr>\n",
              "  </thead>\n",
              "  <tbody>\n",
              "    <tr>\n",
              "      <th>2D Composition|Watercolours|Painting</th>\n",
              "      <td>1</td>\n",
              "    </tr>\n",
              "    <tr>\n",
              "      <th>Accounting|Financial Accounting</th>\n",
              "      <td>1</td>\n",
              "    </tr>\n",
              "    <tr>\n",
              "      <th>Accounting|Fundamental Of Accounting</th>\n",
              "      <td>2</td>\n",
              "    </tr>\n",
              "    <tr>\n",
              "      <th>Accounting|Partnership Accounting|Corporate Accounting|Accounting Theory And Practices</th>\n",
              "      <td>1</td>\n",
              "    </tr>\n",
              "    <tr>\n",
              "      <th>Archeology|Human Prehistory</th>\n",
              "      <td>1</td>\n",
              "    </tr>\n",
              "    <tr>\n",
              "      <th>Architecture</th>\n",
              "      <td>1</td>\n",
              "    </tr>\n",
              "    <tr>\n",
              "      <th>Art</th>\n",
              "      <td>3</td>\n",
              "    </tr>\n",
              "    <tr>\n",
              "      <th>Art; Science</th>\n",
              "      <td>1</td>\n",
              "    </tr>\n",
              "    <tr>\n",
              "      <th>Artificial Intelligence|Machine Learning|Information Technology</th>\n",
              "      <td>1</td>\n",
              "    </tr>\n",
              "    <tr>\n",
              "      <th>Artistic design</th>\n",
              "      <td>1</td>\n",
              "    </tr>\n",
              "  </tbody>\n",
              "</table>\n",
              "</div>"
            ],
            "text/plain": [
              "                                                    post_id\n",
              "category                                                   \n",
              "2D Composition|Watercolours|Painting                      1\n",
              "Accounting|Financial Accounting                           1\n",
              "Accounting|Fundamental Of Accounting                      2\n",
              "Accounting|Partnership Accounting|Corporate Acc...        1\n",
              "Archeology|Human Prehistory                               1\n",
              "Architecture                                              1\n",
              "Art                                                       3\n",
              "Art; Science                                              1\n",
              "Artificial Intelligence|Machine Learning|Inform...        1\n",
              "Artistic design                                           1"
            ]
          },
          "metadata": {
            "tags": []
          },
          "execution_count": 5
        }
      ]
    },
    {
      "cell_type": "code",
      "metadata": {
        "colab": {
          "base_uri": "https://localhost:8080/",
          "height": 629
        },
        "id": "bMyDfs1bXoUu",
        "outputId": "99f63360-caa5-4e41-e989-48ad41d149fa"
      },
      "source": [
        "posts.category.value_counts().head(10).plot.bar(title=\"Top 10 Category\")"
      ],
      "execution_count": null,
      "outputs": [
        {
          "output_type": "execute_result",
          "data": {
            "text/plain": [
              "<matplotlib.axes._subplots.AxesSubplot at 0x7fbf3038af90>"
            ]
          },
          "metadata": {
            "tags": []
          },
          "execution_count": 6
        },
        {
          "output_type": "display_data",
          "data": {
            "image/png": "[encoded data removed]",
            "text/plain": [
              "<Figure size 432x288 with 1 Axes>"
            ]
          },
          "metadata": {
            "tags": [],
            "needs_background": "light"
          }
        }
      ]
    },
    {
      "cell_type": "code",
      "metadata": {
        "colab": {
          "base_uri": "https://localhost:8080/",
          "height": 195
        },
        "id": "ckdlCDg51Xhe",
        "outputId": "3d998ba1-7f90-4e13-b9e3-ecb4c13a2b50"
      },
      "source": [
        "data = pd.merge(views,user,on='user_id')\n",
        "data.head()"
      ],
      "execution_count": null,
      "outputs": [
        {
          "output_type": "execute_result",
          "data": {
            "text/html": [
              "<div>\n",
              "<style scoped>\n",
              "    .dataframe tbody tr th:only-of-type {\n",
              "        vertical-align: middle;\n",
              "    }\n",
              "\n",
              "    .dataframe tbody tr th {\n",
              "        vertical-align: top;\n",
              "    }\n",
              "\n",
              "    .dataframe thead th {\n",
              "        text-align: right;\n",
              "    }\n",
              "</style>\n",
              "<table border=\"1\" class=\"dataframe\">\n",
              "  <thead>\n",
              "    <tr style=\"text-align: right;\">\n",
              "      <th></th>\n",
              "      <th>user_id</th>\n",
              "      <th>post_id</th>\n",
              "      <th>timestamp</th>\n",
              "      <th>name</th>\n",
              "      <th>gender</th>\n",
              "      <th>academics</th>\n",
              "    </tr>\n",
              "  </thead>\n",
              "  <tbody>\n",
              "    <tr>\n",
              "      <th>0</th>\n",
              "      <td>5df49b32cc709107827fb3c7</td>\n",
              "      <td>5ec821ddec493f4a2655889e</td>\n",
              "      <td>2020-06-01T10:46:45.131Z</td>\n",
              "      <td>Niriksha Sharma</td>\n",
              "      <td>female</td>\n",
              "      <td>undergraduate</td>\n",
              "    </tr>\n",
              "    <tr>\n",
              "      <th>1</th>\n",
              "      <td>5df49b32cc709107827fb3c7</td>\n",
              "      <td>5ecd5d417023451e662235c5</td>\n",
              "      <td>2020-05-26T20:11:07.153Z</td>\n",
              "      <td>Niriksha Sharma</td>\n",
              "      <td>female</td>\n",
              "      <td>undergraduate</td>\n",
              "    </tr>\n",
              "    <tr>\n",
              "      <th>2</th>\n",
              "      <td>5df49b32cc709107827fb3c7</td>\n",
              "      <td>5dee9b5042a8854bf6eabaaf</td>\n",
              "      <td>2020-05-25T09:58:52.351Z</td>\n",
              "      <td>Niriksha Sharma</td>\n",
              "      <td>female</td>\n",
              "      <td>undergraduate</td>\n",
              "    </tr>\n",
              "    <tr>\n",
              "      <th>3</th>\n",
              "      <td>5df49b32cc709107827fb3c7</td>\n",
              "      <td>5ecb72c0eaff6b0c3a58a48e</td>\n",
              "      <td>2020-05-25T07:27:20.699Z</td>\n",
              "      <td>Niriksha Sharma</td>\n",
              "      <td>female</td>\n",
              "      <td>undergraduate</td>\n",
              "    </tr>\n",
              "    <tr>\n",
              "      <th>4</th>\n",
              "      <td>5df49b32cc709107827fb3c7</td>\n",
              "      <td>5ec3c09274f7660d73aa1229</td>\n",
              "      <td>2020-05-25T07:26:57.220Z</td>\n",
              "      <td>Niriksha Sharma</td>\n",
              "      <td>female</td>\n",
              "      <td>undergraduate</td>\n",
              "    </tr>\n",
              "  </tbody>\n",
              "</table>\n",
              "</div>"
            ],
            "text/plain": [
              "                    user_id                   post_id  ...  gender      academics\n",
              "0  5df49b32cc709107827fb3c7  5ec821ddec493f4a2655889e  ...  female  undergraduate\n",
              "1  5df49b32cc709107827fb3c7  5ecd5d417023451e662235c5  ...  female  undergraduate\n",
              "2  5df49b32cc709107827fb3c7  5dee9b5042a8854bf6eabaaf  ...  female  undergraduate\n",
              "3  5df49b32cc709107827fb3c7  5ecb72c0eaff6b0c3a58a48e  ...  female  undergraduate\n",
              "4  5df49b32cc709107827fb3c7  5ec3c09274f7660d73aa1229  ...  female  undergraduate\n",
              "\n",
              "[5 rows x 6 columns]"
            ]
          },
          "metadata": {
            "tags": []
          },
          "execution_count": 7
        }
      ]
    },
    {
      "cell_type": "code",
      "metadata": {
        "colab": {
          "base_uri": "https://localhost:8080/",
          "height": 431
        },
        "id": "wfE1vR5mUQty",
        "outputId": "522ce872-2aee-4ef2-bc9c-69804de3be4a"
      },
      "source": [
        "frequency = pd.DataFrame(data.groupby('name')['post_id'].count())\n",
        "frequency"
      ],
      "execution_count": null,
      "outputs": [
        {
          "output_type": "execute_result",
          "data": {
            "text/html": [
              "<div>\n",
              "<style scoped>\n",
              "    .dataframe tbody tr th:only-of-type {\n",
              "        vertical-align: middle;\n",
              "    }\n",
              "\n",
              "    .dataframe tbody tr th {\n",
              "        vertical-align: top;\n",
              "    }\n",
              "\n",
              "    .dataframe thead th {\n",
              "        text-align: right;\n",
              "    }\n",
              "</style>\n",
              "<table border=\"1\" class=\"dataframe\">\n",
              "  <thead>\n",
              "    <tr style=\"text-align: right;\">\n",
              "      <th></th>\n",
              "      <th>post_id</th>\n",
              "    </tr>\n",
              "    <tr>\n",
              "      <th>name</th>\n",
              "      <th></th>\n",
              "    </tr>\n",
              "  </thead>\n",
              "  <tbody>\n",
              "    <tr>\n",
              "      <th>Aanjan Prasath G</th>\n",
              "      <td>5</td>\n",
              "    </tr>\n",
              "    <tr>\n",
              "      <th>Aayushree Khokhar</th>\n",
              "      <td>7</td>\n",
              "    </tr>\n",
              "    <tr>\n",
              "      <th>Abhinav Mishra</th>\n",
              "      <td>2</td>\n",
              "    </tr>\n",
              "    <tr>\n",
              "      <th>Abhishank Gupta</th>\n",
              "      <td>13</td>\n",
              "    </tr>\n",
              "    <tr>\n",
              "      <th>Abhishek Kumar</th>\n",
              "      <td>5</td>\n",
              "    </tr>\n",
              "    <tr>\n",
              "      <th>...</th>\n",
              "      <td>...</td>\n",
              "    </tr>\n",
              "    <tr>\n",
              "      <th>gauri raskar</th>\n",
              "      <td>1</td>\n",
              "    </tr>\n",
              "    <tr>\n",
              "      <th>hritik chaturvedi</th>\n",
              "      <td>1</td>\n",
              "    </tr>\n",
              "    <tr>\n",
              "      <th>siddharth saxena</th>\n",
              "      <td>69</td>\n",
              "    </tr>\n",
              "    <tr>\n",
              "      <th>tavisha</th>\n",
              "      <td>1</td>\n",
              "    </tr>\n",
              "    <tr>\n",
              "      <th>thesocialcomment</th>\n",
              "      <td>19</td>\n",
              "    </tr>\n",
              "  </tbody>\n",
              "</table>\n",
              "<p>118 rows × 1 columns</p>\n",
              "</div>"
            ],
            "text/plain": [
              "                   post_id\n",
              "name                      \n",
              "Aanjan Prasath G         5\n",
              "Aayushree Khokhar        7\n",
              "Abhinav Mishra           2\n",
              "Abhishank Gupta         13\n",
              "Abhishek Kumar           5\n",
              "...                    ...\n",
              "gauri raskar             1\n",
              "hritik chaturvedi        1\n",
              "siddharth saxena        69\n",
              "tavisha                  1\n",
              "thesocialcomment        19\n",
              "\n",
              "[118 rows x 1 columns]"
            ]
          },
          "metadata": {
            "tags": []
          },
          "execution_count": 8
        }
      ]
    },
    {
      "cell_type": "code",
      "metadata": {
        "colab": {
          "base_uri": "https://localhost:8080/",
          "height": 195
        },
        "id": "wPvxSZzChvFo",
        "outputId": "da6149fb-a11a-4c35-b0b7-74bbdbbd4e0a"
      },
      "source": [
        "df = pd.merge(views,posts,on='post_id')\n",
        "df.head()"
      ],
      "execution_count": null,
      "outputs": [
        {
          "output_type": "execute_result",
          "data": {
            "text/html": [
              "<div>\n",
              "<style scoped>\n",
              "    .dataframe tbody tr th:only-of-type {\n",
              "        vertical-align: middle;\n",
              "    }\n",
              "\n",
              "    .dataframe tbody tr th {\n",
              "        vertical-align: top;\n",
              "    }\n",
              "\n",
              "    .dataframe thead th {\n",
              "        text-align: right;\n",
              "    }\n",
              "</style>\n",
              "<table border=\"1\" class=\"dataframe\">\n",
              "  <thead>\n",
              "    <tr style=\"text-align: right;\">\n",
              "      <th></th>\n",
              "      <th>user_id</th>\n",
              "      <th>post_id</th>\n",
              "      <th>timestamp</th>\n",
              "      <th>title</th>\n",
              "      <th>category</th>\n",
              "      <th>post_type</th>\n",
              "    </tr>\n",
              "  </thead>\n",
              "  <tbody>\n",
              "    <tr>\n",
              "      <th>0</th>\n",
              "      <td>5df49b32cc709107827fb3c7</td>\n",
              "      <td>5ec821ddec493f4a2655889e</td>\n",
              "      <td>2020-06-01T10:46:45.131Z</td>\n",
              "      <td>Save Earth.</td>\n",
              "      <td>Visual Arts|Graphic Design|Artistic design|Gra...</td>\n",
              "      <td>artwork</td>\n",
              "    </tr>\n",
              "    <tr>\n",
              "      <th>1</th>\n",
              "      <td>5ec3ba5374f7660d73aa1201</td>\n",
              "      <td>5ec821ddec493f4a2655889e</td>\n",
              "      <td>2020-05-24T10:49:55.177Z</td>\n",
              "      <td>Save Earth.</td>\n",
              "      <td>Visual Arts|Graphic Design|Artistic design|Gra...</td>\n",
              "      <td>artwork</td>\n",
              "    </tr>\n",
              "    <tr>\n",
              "      <th>2</th>\n",
              "      <td>5ec2204374f7660d73aa100f</td>\n",
              "      <td>5ec821ddec493f4a2655889e</td>\n",
              "      <td>2020-05-24T09:23:57.537Z</td>\n",
              "      <td>Save Earth.</td>\n",
              "      <td>Visual Arts|Graphic Design|Artistic design|Gra...</td>\n",
              "      <td>artwork</td>\n",
              "    </tr>\n",
              "    <tr>\n",
              "      <th>3</th>\n",
              "      <td>5d7c994d5720533e15c3b1e9</td>\n",
              "      <td>5ec821ddec493f4a2655889e</td>\n",
              "      <td>2020-05-22T20:11:32.317Z</td>\n",
              "      <td>Save Earth.</td>\n",
              "      <td>Visual Arts|Graphic Design|Artistic design|Gra...</td>\n",
              "      <td>artwork</td>\n",
              "    </tr>\n",
              "    <tr>\n",
              "      <th>4</th>\n",
              "      <td>5de50d768eab6401affbb135</td>\n",
              "      <td>5ec821ddec493f4a2655889e</td>\n",
              "      <td>2020-05-22T20:10:41.100Z</td>\n",
              "      <td>Save Earth.</td>\n",
              "      <td>Visual Arts|Graphic Design|Artistic design|Gra...</td>\n",
              "      <td>artwork</td>\n",
              "    </tr>\n",
              "  </tbody>\n",
              "</table>\n",
              "</div>"
            ],
            "text/plain": [
              "                    user_id  ...  post_type\n",
              "0  5df49b32cc709107827fb3c7  ...    artwork\n",
              "1  5ec3ba5374f7660d73aa1201  ...    artwork\n",
              "2  5ec2204374f7660d73aa100f  ...    artwork\n",
              "3  5d7c994d5720533e15c3b1e9  ...    artwork\n",
              "4  5de50d768eab6401affbb135  ...    artwork\n",
              "\n",
              "[5 rows x 6 columns]"
            ]
          },
          "metadata": {
            "tags": []
          },
          "execution_count": 9
        }
      ]
    },
    {
      "cell_type": "code",
      "metadata": {
        "colab": {
          "base_uri": "https://localhost:8080/"
        },
        "id": "VjzXms1KikFO",
        "outputId": "3e61d684-f70f-4670-a51e-d14f99b4b7c9"
      },
      "source": [
        "df.groupby('title')['category'].count().sort_values(ascending=False).head(10)"
      ],
      "execution_count": null,
      "outputs": [
        {
          "output_type": "execute_result",
          "data": {
            "text/plain": [
              "title\n",
              "Daaku                                             18\n",
              "Machine Learning”&“Operations\" (MlOps)            16\n",
              "Faith in yourself                                 14\n",
              "Gangster Style                                    14\n",
              "The Waves Have Stood Still                        14\n",
              "Women power                                       13\n",
              "Understanding Cloud Computing(AWS)                13\n",
              "AWS services and how to launch OS on AWS Cloud    12\n",
              "Ruins.                                            12\n",
              "HUMAN ILLUSTRATION                                12\n",
              "Name: category, dtype: int64"
            ]
          },
          "metadata": {
            "tags": []
          },
          "execution_count": 10
        }
      ]
    },
    {
      "cell_type": "code",
      "metadata": {
        "colab": {
          "base_uri": "https://localhost:8080/"
        },
        "id": "0zk3vc2OjOxp",
        "outputId": "f07b2afc-d548-4dc6-afe7-d66f4f796000"
      },
      "source": [
        "df.groupby('user_id')['category'].count().sort_values(ascending=False).head(10)"
      ],
      "execution_count": null,
      "outputs": [
        {
          "output_type": "execute_result",
          "data": {
            "text/plain": [
              "user_id\n",
              "5d60098a653a331687083238    221\n",
              "5d610ae1653a331687083239    131\n",
              "5d7c994d5720533e15c3b1e9     86\n",
              "5deeef6142a8854bf6eabab9     66\n",
              "5df20f1fee4bb5252b4f5351     66\n",
              "5e1ef04c2a37d20505da2b8b     61\n",
              "5e5af599d701ab08af792b63     59\n",
              "5e7cf05bcfc8b713f5ac7db7     48\n",
              "5defd51362624b0135ea9fd2     45\n",
              "5ecb979eeaff6b0c3a58a4f0     36\n",
              "Name: category, dtype: int64"
            ]
          },
          "metadata": {
            "tags": []
          },
          "execution_count": 11
        }
      ]
    },
    {
      "cell_type": "markdown",
      "metadata": {
        "id": "T1Bq-BxZ_DNG"
      },
      "source": [
        "### Word Cloud"
      ]
    },
    {
      "cell_type": "code",
      "metadata": {
        "id": "YR_MWmJ7hQne",
        "colab": {
          "base_uri": "https://localhost:8080/",
          "height": 466
        },
        "outputId": "12c024e4-b031-46e8-a828-3205b7cff4ab"
      },
      "source": [
        "import wordcloud\n",
        "from wordcloud import WordCloud, STOPWORDS\n",
        "\n",
        "# Create a wordcloud of the movie titles\n",
        "posts['title'] = posts['title'].fillna(\"\").astype('str')\n",
        "title_corpus = ' '.join(posts['title'])\n",
        "title_wordcloud = WordCloud(stopwords=STOPWORDS, background_color='white', height=2000, width=4000).generate(title_corpus)\n",
        "\n",
        "# Plot the wordcloud\n",
        "plt.figure(figsize=(16,8))\n",
        "plt.imshow(title_wordcloud,interpolation='bilinear')\n",
        "plt.axis('off');"
      ],
      "execution_count": null,
      "outputs": [
        {
          "output_type": "display_data",
          "data": {
            "image/png": "[encoded data removed]",
            "text/plain": [
              "<Figure size 1152x576 with 1 Axes>"
            ]
          },
          "metadata": {
            "tags": [],
            "needs_background": "light"
          }
        }
      ]
    },
    {
      "cell_type": "markdown",
      "metadata": {
        "id": "reDVYf3QX-X0"
      },
      "source": [
        "For finding appropriate results, I applied a hybrid approach by combining content based filtering and collaborative filtering.\n",
        "\n",
        "My Approaches are:"
      ]
    },
    {
      "cell_type": "markdown",
      "metadata": {
        "id": "IN6ap1VzjpUy"
      },
      "source": [
        "## Approach 1"
      ]
    },
    {
      "cell_type": "code",
      "metadata": {
        "id": "s6IQOCnSv1Ln"
      },
      "source": [
        "from sklearn.feature_extraction.text import TfidfVectorizer\n",
        "\n",
        "TfidfVectorizer\n",
        "tfv = TfidfVectorizer(min_df=3,  max_features=None, \n",
        "            strip_accents='unicode', analyzer='word',token_pattern=r'\\w{1,}',\n",
        "            ngram_range=(1, 3),\n",
        "            stop_words = 'english')\n",
        "\n",
        "# Filling NaNs with empty string\n",
        "posts['category'] = posts['category'].fillna('')"
      ],
      "execution_count": null,
      "outputs": []
    },
    {
      "cell_type": "code",
      "metadata": {
        "id": "hlUTjXhev13q"
      },
      "source": [
        "tfv_matrix = tfv.fit_transform(posts['category'])"
      ],
      "execution_count": null,
      "outputs": []
    },
    {
      "cell_type": "code",
      "metadata": {
        "colab": {
          "base_uri": "https://localhost:8080/"
        },
        "id": "lBH4RZKxv4L_",
        "outputId": "06d8e830-0959-42aa-f457-80a48f45211d"
      },
      "source": [
        "tfv_matrix.shape"
      ],
      "execution_count": null,
      "outputs": [
        {
          "output_type": "execute_result",
          "data": {
            "text/plain": [
              "(465, 228)"
            ]
          },
          "metadata": {
            "tags": []
          },
          "execution_count": 15
        }
      ]
    },
    {
      "cell_type": "code",
      "metadata": {
        "id": "DvzupIXjv77G"
      },
      "source": [
        "from sklearn.metrics.pairwise import sigmoid_kernel\n",
        "\n",
        "sig = sigmoid_kernel(tfv_matrix, tfv_matrix)"
      ],
      "execution_count": null,
      "outputs": []
    },
    {
      "cell_type": "code",
      "metadata": {
        "id": "P1gndi9Zv90H"
      },
      "source": [
        "indices = pd.Series(posts.index, index=posts['title']).drop_duplicates()"
      ],
      "execution_count": null,
      "outputs": []
    },
    {
      "cell_type": "code",
      "metadata": {
        "colab": {
          "base_uri": "https://localhost:8080/"
        },
        "id": "c8vx4SCewAY1",
        "outputId": "5029a615-5d66-44b8-e480-79be4d129820"
      },
      "source": [
        "indices.head()"
      ],
      "execution_count": null,
      "outputs": [
        {
          "output_type": "execute_result",
          "data": {
            "text/plain": [
              "title\n",
              "hello there                      0\n",
              "Ml and AI                        1\n",
              "What is an Operating System ?    2\n",
              "Lord Shiva                       3\n",
              "How Competition law evolved?     4\n",
              "dtype: int64"
            ]
          },
          "metadata": {
            "tags": []
          },
          "execution_count": 18
        }
      ]
    },
    {
      "cell_type": "code",
      "metadata": {
        "id": "Az_svotfwC29"
      },
      "source": [
        "def give_rec(title,no_of_rec, sig=sig):\n",
        "    # Get the index corresponding to original_title\n",
        "    idx = indices[title]\n",
        "\n",
        "    # Get the pairwsie similarity scores \n",
        "    sig_scores = list(enumerate(sig[idx]))\n",
        "\n",
        "    # Sort the posts \n",
        "    sig_scores = sorted(sig_scores, key=lambda x: x[1], reverse=True)\n",
        "\n",
        "    # Scores of the 10 most similar posts\n",
        "    sig_scores = sig_scores[0:no_of_rec+1]\n",
        "\n",
        "    # post indices\n",
        "    post_index = [i[0] for i in sig_scores]\n",
        "\n",
        "    # Top 10 most similar posts\n",
        "    return posts['title'].iloc[post_index]"
      ],
      "execution_count": null,
      "outputs": []
    },
    {
      "cell_type": "code",
      "metadata": {
        "id": "yprfBJkfwGJG"
      },
      "source": [
        "def recommend_post(title,n=10):\n",
        "  rec=give_rec(title,n).to_list()\n",
        "  count=0\n",
        "  for item in rec:\n",
        "    if not (item==title) and count<=n:\n",
        "      count+=1\n",
        "      print(item)"
      ],
      "execution_count": null,
      "outputs": []
    },
    {
      "cell_type": "code",
      "metadata": {
        "colab": {
          "base_uri": "https://localhost:8080/",
          "height": 195
        },
        "id": "Tus9p_JWwKOM",
        "outputId": "0d82cfe1-d8c7-40e6-9d75-032236fdf106"
      },
      "source": [
        "data_df = pd.merge( user,views, on='user_id')\n",
        "data_df = pd.merge( data_df,posts, on='post_id') \n",
        "data_df=data_df.drop(columns=['user_id','gender','academics','post_id','category'])\n",
        "data_df.head()"
      ],
      "execution_count": null,
      "outputs": [
        {
          "output_type": "execute_result",
          "data": {
            "text/html": [
              "<div>\n",
              "<style scoped>\n",
              "    .dataframe tbody tr th:only-of-type {\n",
              "        vertical-align: middle;\n",
              "    }\n",
              "\n",
              "    .dataframe tbody tr th {\n",
              "        vertical-align: top;\n",
              "    }\n",
              "\n",
              "    .dataframe thead th {\n",
              "        text-align: right;\n",
              "    }\n",
              "</style>\n",
              "<table border=\"1\" class=\"dataframe\">\n",
              "  <thead>\n",
              "    <tr style=\"text-align: right;\">\n",
              "      <th></th>\n",
              "      <th>name</th>\n",
              "      <th>timestamp</th>\n",
              "      <th>title</th>\n",
              "      <th>post_type</th>\n",
              "    </tr>\n",
              "  </thead>\n",
              "  <tbody>\n",
              "    <tr>\n",
              "      <th>0</th>\n",
              "      <td>Nivesh Singh Chauhan</td>\n",
              "      <td>2020-05-31T18:01:54.308Z</td>\n",
              "      <td>Configure Docker with Django; PostgreSQL; Pg-a...</td>\n",
              "      <td>blog</td>\n",
              "    </tr>\n",
              "    <tr>\n",
              "      <th>1</th>\n",
              "      <td>Kanika Sharma</td>\n",
              "      <td>2020-05-31T20:40:18.693Z</td>\n",
              "      <td>Configure Docker with Django; PostgreSQL; Pg-a...</td>\n",
              "      <td>blog</td>\n",
              "    </tr>\n",
              "    <tr>\n",
              "      <th>2</th>\n",
              "      <td>Asif Hossain</td>\n",
              "      <td>2020-06-01T08:08:54.124Z</td>\n",
              "      <td>Configure Docker with Django; PostgreSQL; Pg-a...</td>\n",
              "      <td>blog</td>\n",
              "    </tr>\n",
              "    <tr>\n",
              "      <th>3</th>\n",
              "      <td>Parth Vijay</td>\n",
              "      <td>2020-05-31T10:08:37.079Z</td>\n",
              "      <td>Configure Docker with Django; PostgreSQL; Pg-a...</td>\n",
              "      <td>blog</td>\n",
              "    </tr>\n",
              "    <tr>\n",
              "      <th>4</th>\n",
              "      <td>Nivesh Singh Chauhan</td>\n",
              "      <td>2020-05-31T08:21:29.911Z</td>\n",
              "      <td>AWS services and how to launch OS on AWS Cloud</td>\n",
              "      <td>blog</td>\n",
              "    </tr>\n",
              "  </tbody>\n",
              "</table>\n",
              "</div>"
            ],
            "text/plain": [
              "                   name  ...  post_type\n",
              "0  Nivesh Singh Chauhan  ...       blog\n",
              "1         Kanika Sharma  ...       blog\n",
              "2          Asif Hossain  ...       blog\n",
              "3           Parth Vijay  ...       blog\n",
              "4  Nivesh Singh Chauhan  ...       blog\n",
              "\n",
              "[5 rows x 4 columns]"
            ]
          },
          "metadata": {
            "tags": []
          },
          "execution_count": 21
        }
      ]
    },
    {
      "cell_type": "code",
      "metadata": {
        "id": "RMd0OUJAwL4T"
      },
      "source": [
        "def recommend_user(user_name,n=10):\n",
        "  curr=data_df.query('name == @user_name')\n",
        "  latest=max(curr['timestamp'])\n",
        "  curr=curr.query('timestamp==@latest')\n",
        "  for i in (curr['title']):\n",
        "    print(\"Recent Post viewed:-\", i)\n",
        "    print(\"\\nRecommended for you:\\n\")\n",
        "    recommend_post(i,n)"
      ],
      "execution_count": null,
      "outputs": []
    },
    {
      "cell_type": "markdown",
      "metadata": {
        "id": "kQ0hUyeM0VRo"
      },
      "source": [
        "### Recommend similar posts for the given post\n"
      ]
    },
    {
      "cell_type": "code",
      "metadata": {
        "colab": {
          "base_uri": "https://localhost:8080/"
        },
        "id": "MaaVMXQpwNv5",
        "outputId": "3181287a-6f6c-47f1-cd29-48ecb63e5fd7"
      },
      "source": [
        "recommend_post(\"Ml and AI\",5)"
      ],
      "execution_count": null,
      "outputs": [
        {
          "output_type": "stream",
          "text": [
            "6 Best + Free PLC Programming Training & Course [2020 UPDATED]\n",
            "What sports will look like in the future\n",
            "Artificial Intelligence\n",
            "Types Of AI.\n",
            "7 Best Python Data Science Courses & Certification [2020]\n"
          ],
          "name": "stdout"
        }
      ]
    },
    {
      "cell_type": "code",
      "metadata": {
        "colab": {
          "base_uri": "https://localhost:8080/"
        },
        "id": "9PiBIi_20qT0",
        "outputId": "04acc7a6-b826-43cc-8494-0f0a6b694df9"
      },
      "source": [
        "recommend_post(\"Lord Shiva\",5)"
      ],
      "execution_count": null,
      "outputs": [
        {
          "output_type": "stream",
          "text": [
            "Trident\n",
            "Lord shiva\n",
            "Kid Bu\n",
            "Shadow Sketch\n",
            "The Chosen\n"
          ],
          "name": "stdout"
        }
      ]
    },
    {
      "cell_type": "markdown",
      "metadata": {
        "id": "nIAHtrt30dIZ"
      },
      "source": [
        "### Recommend posts for the given user"
      ]
    },
    {
      "cell_type": "code",
      "metadata": {
        "colab": {
          "base_uri": "https://localhost:8080/"
        },
        "id": "NXEU5KAHwPeR",
        "outputId": "92bd3e46-c905-462a-a36c-a7f6d0e0b344"
      },
      "source": [
        "recommend_user(\"Abhishank Gupta\")"
      ],
      "execution_count": null,
      "outputs": [
        {
          "output_type": "stream",
          "text": [
            "Recent Post viewed:- Goldfish\n",
            "\n",
            "Recommended for you:\n",
            "\n",
            "Colours of pushkar.\n",
            "Spirituality\n",
            "Travelling\n",
            "screw town\n",
            "screw2\n",
            "Aesthetic\n",
            "Quarantined\n",
            "Bloom🌸\n",
            "Dog❤️\n",
            "Leap of faith\n",
            "The silence that shouts\n"
          ],
          "name": "stdout"
        }
      ]
    },
    {
      "cell_type": "code",
      "metadata": {
        "colab": {
          "base_uri": "https://localhost:8080/"
        },
        "id": "Vdn19zo_0jyW",
        "outputId": "90505bed-39db-4564-a5f4-f4a15fa20ef8"
      },
      "source": [
        "recommend_user(\"Sahana B\")"
      ],
      "execution_count": null,
      "outputs": [
        {
          "output_type": "stream",
          "text": [
            "Recent Post viewed:- Understanding Cloud Computing(AWS)\n",
            "\n",
            "Recommended for you:\n",
            "\n",
            "MIS\n",
            "Ethernet\n",
            "What is Information technology?\n",
            "CI/CD using GitHub Actions\n",
            "Topology & it's types\n",
            "Information System\n",
            "Stereoscopic and virtual-reality systems\n",
            "Mobile Computing Technology\n",
            "App Development\n",
            "Firewall\n",
            "Will AI replace humans intellectual work?\n"
          ],
          "name": "stdout"
        }
      ]
    },
    {
      "cell_type": "markdown",
      "metadata": {
        "id": "9aW6UpLfmyrO"
      },
      "source": [
        "\n",
        "## Approach 2 (for most popular post)"
      ]
    },
    {
      "cell_type": "code",
      "metadata": {
        "id": "XjnKVGH_sPT0"
      },
      "source": [
        "dataframe = pd.DataFrame(views)"
      ],
      "execution_count": null,
      "outputs": []
    },
    {
      "cell_type": "code",
      "metadata": {
        "id": "5EYvRMEttA83"
      },
      "source": [
        "\n",
        "dataframe[\"Value\"] = np.random.randint(1, 6, len(dataframe))"
      ],
      "execution_count": null,
      "outputs": []
    },
    {
      "cell_type": "code",
      "metadata": {
        "colab": {
          "base_uri": "https://localhost:8080/",
          "height": 195
        },
        "id": "JOC2OzWwtEVf",
        "outputId": "63d4e2f1-1e2b-495b-f008-32c24a7db4a4"
      },
      "source": [
        "dataframe.head()"
      ],
      "execution_count": null,
      "outputs": [
        {
          "output_type": "execute_result",
          "data": {
            "text/html": [
              "<div>\n",
              "<style scoped>\n",
              "    .dataframe tbody tr th:only-of-type {\n",
              "        vertical-align: middle;\n",
              "    }\n",
              "\n",
              "    .dataframe tbody tr th {\n",
              "        vertical-align: top;\n",
              "    }\n",
              "\n",
              "    .dataframe thead th {\n",
              "        text-align: right;\n",
              "    }\n",
              "</style>\n",
              "<table border=\"1\" class=\"dataframe\">\n",
              "  <thead>\n",
              "    <tr style=\"text-align: right;\">\n",
              "      <th></th>\n",
              "      <th>user_id</th>\n",
              "      <th>post_id</th>\n",
              "      <th>timestamp</th>\n",
              "      <th>Value</th>\n",
              "    </tr>\n",
              "  </thead>\n",
              "  <tbody>\n",
              "    <tr>\n",
              "      <th>0</th>\n",
              "      <td>5df49b32cc709107827fb3c7</td>\n",
              "      <td>5ec821ddec493f4a2655889e</td>\n",
              "      <td>2020-06-01T10:46:45.131Z</td>\n",
              "      <td>3</td>\n",
              "    </tr>\n",
              "    <tr>\n",
              "      <th>1</th>\n",
              "      <td>5ed3748576027d35905ccaab</td>\n",
              "      <td>5ed4cbadbd514d602c1531a6</td>\n",
              "      <td>2020-06-01T09:39:20.021Z</td>\n",
              "      <td>1</td>\n",
              "    </tr>\n",
              "    <tr>\n",
              "      <th>2</th>\n",
              "      <td>5ed0defa76027d35905cc2de</td>\n",
              "      <td>5eac305f10426255a7aa9dd3</td>\n",
              "      <td>2020-06-01T08:12:42.682Z</td>\n",
              "      <td>4</td>\n",
              "    </tr>\n",
              "    <tr>\n",
              "      <th>3</th>\n",
              "      <td>5ed0defa76027d35905cc2de</td>\n",
              "      <td>5ed1ff0276027d35905cc60d</td>\n",
              "      <td>2020-06-01T08:10:23.880Z</td>\n",
              "      <td>4</td>\n",
              "    </tr>\n",
              "    <tr>\n",
              "      <th>4</th>\n",
              "      <td>5ed0defa76027d35905cc2de</td>\n",
              "      <td>5ed3820f76027d35905ccac8</td>\n",
              "      <td>2020-06-01T08:08:54.124Z</td>\n",
              "      <td>2</td>\n",
              "    </tr>\n",
              "  </tbody>\n",
              "</table>\n",
              "</div>"
            ],
            "text/plain": [
              "                    user_id  ... Value\n",
              "0  5df49b32cc709107827fb3c7  ...     3\n",
              "1  5ed3748576027d35905ccaab  ...     1\n",
              "2  5ed0defa76027d35905cc2de  ...     4\n",
              "3  5ed0defa76027d35905cc2de  ...     4\n",
              "4  5ed0defa76027d35905cc2de  ...     2\n",
              "\n",
              "[5 rows x 4 columns]"
            ]
          },
          "metadata": {
            "tags": []
          },
          "execution_count": 29
        }
      ]
    },
    {
      "cell_type": "code",
      "metadata": {
        "colab": {
          "base_uri": "https://localhost:8080/",
          "height": 279
        },
        "id": "9nIxwn-XtGZb",
        "outputId": "ff5fe1c5-4d68-4d4e-85cb-c9a1fef5dd36"
      },
      "source": [
        "df = pd.merge(dataframe, posts ,on='post_id')\n",
        "df.head()"
      ],
      "execution_count": null,
      "outputs": [
        {
          "output_type": "execute_result",
          "data": {
            "text/html": [
              "<div>\n",
              "<style scoped>\n",
              "    .dataframe tbody tr th:only-of-type {\n",
              "        vertical-align: middle;\n",
              "    }\n",
              "\n",
              "    .dataframe tbody tr th {\n",
              "        vertical-align: top;\n",
              "    }\n",
              "\n",
              "    .dataframe thead th {\n",
              "        text-align: right;\n",
              "    }\n",
              "</style>\n",
              "<table border=\"1\" class=\"dataframe\">\n",
              "  <thead>\n",
              "    <tr style=\"text-align: right;\">\n",
              "      <th></th>\n",
              "      <th>user_id</th>\n",
              "      <th>post_id</th>\n",
              "      <th>timestamp</th>\n",
              "      <th>Value</th>\n",
              "      <th>title</th>\n",
              "      <th>category</th>\n",
              "      <th>post_type</th>\n",
              "    </tr>\n",
              "  </thead>\n",
              "  <tbody>\n",
              "    <tr>\n",
              "      <th>0</th>\n",
              "      <td>5df49b32cc709107827fb3c7</td>\n",
              "      <td>5ec821ddec493f4a2655889e</td>\n",
              "      <td>2020-06-01T10:46:45.131Z</td>\n",
              "      <td>3</td>\n",
              "      <td>Save Earth.</td>\n",
              "      <td>Visual Arts|Graphic Design|Artistic design|Gra...</td>\n",
              "      <td>artwork</td>\n",
              "    </tr>\n",
              "    <tr>\n",
              "      <th>1</th>\n",
              "      <td>5ec3ba5374f7660d73aa1201</td>\n",
              "      <td>5ec821ddec493f4a2655889e</td>\n",
              "      <td>2020-05-24T10:49:55.177Z</td>\n",
              "      <td>2</td>\n",
              "      <td>Save Earth.</td>\n",
              "      <td>Visual Arts|Graphic Design|Artistic design|Gra...</td>\n",
              "      <td>artwork</td>\n",
              "    </tr>\n",
              "    <tr>\n",
              "      <th>2</th>\n",
              "      <td>5ec2204374f7660d73aa100f</td>\n",
              "      <td>5ec821ddec493f4a2655889e</td>\n",
              "      <td>2020-05-24T09:23:57.537Z</td>\n",
              "      <td>4</td>\n",
              "      <td>Save Earth.</td>\n",
              "      <td>Visual Arts|Graphic Design|Artistic design|Gra...</td>\n",
              "      <td>artwork</td>\n",
              "    </tr>\n",
              "    <tr>\n",
              "      <th>3</th>\n",
              "      <td>5d7c994d5720533e15c3b1e9</td>\n",
              "      <td>5ec821ddec493f4a2655889e</td>\n",
              "      <td>2020-05-22T20:11:32.317Z</td>\n",
              "      <td>1</td>\n",
              "      <td>Save Earth.</td>\n",
              "      <td>Visual Arts|Graphic Design|Artistic design|Gra...</td>\n",
              "      <td>artwork</td>\n",
              "    </tr>\n",
              "    <tr>\n",
              "      <th>4</th>\n",
              "      <td>5de50d768eab6401affbb135</td>\n",
              "      <td>5ec821ddec493f4a2655889e</td>\n",
              "      <td>2020-05-22T20:10:41.100Z</td>\n",
              "      <td>4</td>\n",
              "      <td>Save Earth.</td>\n",
              "      <td>Visual Arts|Graphic Design|Artistic design|Gra...</td>\n",
              "      <td>artwork</td>\n",
              "    </tr>\n",
              "  </tbody>\n",
              "</table>\n",
              "</div>"
            ],
            "text/plain": [
              "                    user_id  ...  post_type\n",
              "0  5df49b32cc709107827fb3c7  ...    artwork\n",
              "1  5ec3ba5374f7660d73aa1201  ...    artwork\n",
              "2  5ec2204374f7660d73aa100f  ...    artwork\n",
              "3  5d7c994d5720533e15c3b1e9  ...    artwork\n",
              "4  5de50d768eab6401affbb135  ...    artwork\n",
              "\n",
              "[5 rows x 7 columns]"
            ]
          },
          "metadata": {
            "tags": []
          },
          "execution_count": 30
        }
      ]
    },
    {
      "cell_type": "code",
      "metadata": {
        "id": "tTjKp3uFtO3p"
      },
      "source": [
        "data = df.drop(['timestamp', 'category'], axis=1)"
      ],
      "execution_count": null,
      "outputs": []
    },
    {
      "cell_type": "code",
      "metadata": {
        "colab": {
          "base_uri": "https://localhost:8080/",
          "height": 195
        },
        "id": "91fp8vCttY6r",
        "outputId": "602a4c20-6a75-4528-9173-3211c9545eb8"
      },
      "source": [
        "data.head()"
      ],
      "execution_count": null,
      "outputs": [
        {
          "output_type": "execute_result",
          "data": {
            "text/html": [
              "<div>\n",
              "<style scoped>\n",
              "    .dataframe tbody tr th:only-of-type {\n",
              "        vertical-align: middle;\n",
              "    }\n",
              "\n",
              "    .dataframe tbody tr th {\n",
              "        vertical-align: top;\n",
              "    }\n",
              "\n",
              "    .dataframe thead th {\n",
              "        text-align: right;\n",
              "    }\n",
              "</style>\n",
              "<table border=\"1\" class=\"dataframe\">\n",
              "  <thead>\n",
              "    <tr style=\"text-align: right;\">\n",
              "      <th></th>\n",
              "      <th>user_id</th>\n",
              "      <th>post_id</th>\n",
              "      <th>Value</th>\n",
              "      <th>title</th>\n",
              "      <th>post_type</th>\n",
              "    </tr>\n",
              "  </thead>\n",
              "  <tbody>\n",
              "    <tr>\n",
              "      <th>0</th>\n",
              "      <td>5df49b32cc709107827fb3c7</td>\n",
              "      <td>5ec821ddec493f4a2655889e</td>\n",
              "      <td>3</td>\n",
              "      <td>Save Earth.</td>\n",
              "      <td>artwork</td>\n",
              "    </tr>\n",
              "    <tr>\n",
              "      <th>1</th>\n",
              "      <td>5ec3ba5374f7660d73aa1201</td>\n",
              "      <td>5ec821ddec493f4a2655889e</td>\n",
              "      <td>2</td>\n",
              "      <td>Save Earth.</td>\n",
              "      <td>artwork</td>\n",
              "    </tr>\n",
              "    <tr>\n",
              "      <th>2</th>\n",
              "      <td>5ec2204374f7660d73aa100f</td>\n",
              "      <td>5ec821ddec493f4a2655889e</td>\n",
              "      <td>4</td>\n",
              "      <td>Save Earth.</td>\n",
              "      <td>artwork</td>\n",
              "    </tr>\n",
              "    <tr>\n",
              "      <th>3</th>\n",
              "      <td>5d7c994d5720533e15c3b1e9</td>\n",
              "      <td>5ec821ddec493f4a2655889e</td>\n",
              "      <td>1</td>\n",
              "      <td>Save Earth.</td>\n",
              "      <td>artwork</td>\n",
              "    </tr>\n",
              "    <tr>\n",
              "      <th>4</th>\n",
              "      <td>5de50d768eab6401affbb135</td>\n",
              "      <td>5ec821ddec493f4a2655889e</td>\n",
              "      <td>4</td>\n",
              "      <td>Save Earth.</td>\n",
              "      <td>artwork</td>\n",
              "    </tr>\n",
              "  </tbody>\n",
              "</table>\n",
              "</div>"
            ],
            "text/plain": [
              "                    user_id                   post_id  ...        title  post_type\n",
              "0  5df49b32cc709107827fb3c7  5ec821ddec493f4a2655889e  ...  Save Earth.    artwork\n",
              "1  5ec3ba5374f7660d73aa1201  5ec821ddec493f4a2655889e  ...  Save Earth.    artwork\n",
              "2  5ec2204374f7660d73aa100f  5ec821ddec493f4a2655889e  ...  Save Earth.    artwork\n",
              "3  5d7c994d5720533e15c3b1e9  5ec821ddec493f4a2655889e  ...  Save Earth.    artwork\n",
              "4  5de50d768eab6401affbb135  5ec821ddec493f4a2655889e  ...  Save Earth.    artwork\n",
              "\n",
              "[5 rows x 5 columns]"
            ]
          },
          "metadata": {
            "tags": []
          },
          "execution_count": 32
        }
      ]
    },
    {
      "cell_type": "code",
      "metadata": {
        "colab": {
          "base_uri": "https://localhost:8080/",
          "height": 195
        },
        "id": "j4VR5A7RtPyD",
        "outputId": "b6742d12-6a7d-46e1-cf6d-0fa5a1139433"
      },
      "source": [
        "combine_post_rating = data.dropna(axis = 0, subset = ['title'])\n",
        "\n",
        "post_ratingCount = (combine_post_rating.\n",
        "     groupby(by = ['title'])['Value'].\n",
        "     count().\n",
        "     reset_index().\n",
        "     rename(columns = {'Value': 'totalValueCount'})\n",
        "     [['title', 'totalValueCount']]\n",
        "    )\n",
        "post_ratingCount.head()\n"
      ],
      "execution_count": null,
      "outputs": [
        {
          "output_type": "execute_result",
          "data": {
            "text/html": [
              "<div>\n",
              "<style scoped>\n",
              "    .dataframe tbody tr th:only-of-type {\n",
              "        vertical-align: middle;\n",
              "    }\n",
              "\n",
              "    .dataframe tbody tr th {\n",
              "        vertical-align: top;\n",
              "    }\n",
              "\n",
              "    .dataframe thead th {\n",
              "        text-align: right;\n",
              "    }\n",
              "</style>\n",
              "<table border=\"1\" class=\"dataframe\">\n",
              "  <thead>\n",
              "    <tr style=\"text-align: right;\">\n",
              "      <th></th>\n",
              "      <th>title</th>\n",
              "      <th>totalValueCount</th>\n",
              "    </tr>\n",
              "  </thead>\n",
              "  <tbody>\n",
              "    <tr>\n",
              "      <th>0</th>\n",
              "      <td>'The Virtual ME'</td>\n",
              "      <td>3</td>\n",
              "    </tr>\n",
              "    <tr>\n",
              "      <th>1</th>\n",
              "      <td>10 Best Artificial Intelligence (AI) Courses O...</td>\n",
              "      <td>2</td>\n",
              "    </tr>\n",
              "    <tr>\n",
              "      <th>2</th>\n",
              "      <td>10 Best UI UX Design Course &amp; Certification [2...</td>\n",
              "      <td>2</td>\n",
              "    </tr>\n",
              "    <tr>\n",
              "      <th>3</th>\n",
              "      <td>100 Free University Courses Online [2020]</td>\n",
              "      <td>5</td>\n",
              "    </tr>\n",
              "    <tr>\n",
              "      <th>4</th>\n",
              "      <td>20 Best Data Science Certification &amp; Courses f...</td>\n",
              "      <td>1</td>\n",
              "    </tr>\n",
              "  </tbody>\n",
              "</table>\n",
              "</div>"
            ],
            "text/plain": [
              "                                               title  totalValueCount\n",
              "0                                   'The Virtual ME'                3\n",
              "1  10 Best Artificial Intelligence (AI) Courses O...                2\n",
              "2  10 Best UI UX Design Course & Certification [2...                2\n",
              "3          100 Free University Courses Online [2020]                5\n",
              "4  20 Best Data Science Certification & Courses f...                1"
            ]
          },
          "metadata": {
            "tags": []
          },
          "execution_count": 33
        }
      ]
    },
    {
      "cell_type": "code",
      "metadata": {
        "colab": {
          "base_uri": "https://localhost:8080/",
          "height": 195
        },
        "id": "GFPTYp-VtmzY",
        "outputId": "3de1d00e-bac2-4d16-d133-e34b56b4af80"
      },
      "source": [
        "rating_with_totalValueCount = combine_post_rating.merge(post_ratingCount, left_on = 'title', right_on = 'title', how = 'left')\n",
        "rating_with_totalValueCount.tail()"
      ],
      "execution_count": null,
      "outputs": [
        {
          "output_type": "execute_result",
          "data": {
            "text/html": [
              "<div>\n",
              "<style scoped>\n",
              "    .dataframe tbody tr th:only-of-type {\n",
              "        vertical-align: middle;\n",
              "    }\n",
              "\n",
              "    .dataframe tbody tr th {\n",
              "        vertical-align: top;\n",
              "    }\n",
              "\n",
              "    .dataframe thead th {\n",
              "        text-align: right;\n",
              "    }\n",
              "</style>\n",
              "<table border=\"1\" class=\"dataframe\">\n",
              "  <thead>\n",
              "    <tr style=\"text-align: right;\">\n",
              "      <th></th>\n",
              "      <th>user_id</th>\n",
              "      <th>post_id</th>\n",
              "      <th>Value</th>\n",
              "      <th>title</th>\n",
              "      <th>post_type</th>\n",
              "      <th>totalValueCount</th>\n",
              "    </tr>\n",
              "  </thead>\n",
              "  <tbody>\n",
              "    <tr>\n",
              "      <th>1354</th>\n",
              "      <td>5d60098a653a331687083238</td>\n",
              "      <td>5e294fd1c85ab714a7da6643</td>\n",
              "      <td>3</td>\n",
              "      <td>Personal growth</td>\n",
              "      <td>blog</td>\n",
              "      <td>1</td>\n",
              "    </tr>\n",
              "    <tr>\n",
              "      <th>1355</th>\n",
              "      <td>5d610ae1653a331687083239</td>\n",
              "      <td>5e7c78fdcfc8b713f5ac7daa</td>\n",
              "      <td>3</td>\n",
              "      <td>Types Of AI.</td>\n",
              "      <td>blog</td>\n",
              "      <td>1</td>\n",
              "    </tr>\n",
              "    <tr>\n",
              "      <th>1356</th>\n",
              "      <td>5d60098a653a331687083238</td>\n",
              "      <td>5dc065ca24b883670268772f</td>\n",
              "      <td>5</td>\n",
              "      <td>Colours of pushkar.</td>\n",
              "      <td>artwork</td>\n",
              "      <td>1</td>\n",
              "    </tr>\n",
              "    <tr>\n",
              "      <th>1357</th>\n",
              "      <td>5d60098a653a331687083238</td>\n",
              "      <td>5e7a5ebdcfc8b713f5ac7d7f</td>\n",
              "      <td>4</td>\n",
              "      <td>I won the Art.</td>\n",
              "      <td>artwork</td>\n",
              "      <td>1</td>\n",
              "    </tr>\n",
              "    <tr>\n",
              "      <th>1358</th>\n",
              "      <td>5d60098a653a331687083238</td>\n",
              "      <td>5e7a629ccfc8b713f5ac7d84</td>\n",
              "      <td>4</td>\n",
              "      <td>3D composition.</td>\n",
              "      <td>artwork</td>\n",
              "      <td>1</td>\n",
              "    </tr>\n",
              "  </tbody>\n",
              "</table>\n",
              "</div>"
            ],
            "text/plain": [
              "                       user_id  ... totalValueCount\n",
              "1354  5d60098a653a331687083238  ...               1\n",
              "1355  5d610ae1653a331687083239  ...               1\n",
              "1356  5d60098a653a331687083238  ...               1\n",
              "1357  5d60098a653a331687083238  ...               1\n",
              "1358  5d60098a653a331687083238  ...               1\n",
              "\n",
              "[5 rows x 6 columns]"
            ]
          },
          "metadata": {
            "tags": []
          },
          "execution_count": 34
        }
      ]
    },
    {
      "cell_type": "code",
      "metadata": {
        "colab": {
          "base_uri": "https://localhost:8080/"
        },
        "id": "o8L3g61TtrTi",
        "outputId": "99005a98-7056-446d-f09e-8f1234355ff1"
      },
      "source": [
        "pd.set_option('display.float_format', lambda x: '%.3f' % x)\n",
        "print(post_ratingCount['totalValueCount'].describe())"
      ],
      "execution_count": null,
      "outputs": [
        {
          "output_type": "stream",
          "text": [
            "count   450.000\n",
            "mean      3.020\n",
            "std       2.802\n",
            "min       1.000\n",
            "25%       1.000\n",
            "50%       2.000\n",
            "75%       4.000\n",
            "max      18.000\n",
            "Name: totalValueCount, dtype: float64\n"
          ],
          "name": "stdout"
        }
      ]
    },
    {
      "cell_type": "code",
      "metadata": {
        "colab": {
          "base_uri": "https://localhost:8080/"
        },
        "id": "rtGVUcemturz",
        "outputId": "5b9e8e31-3216-44ff-943c-327759c889d7"
      },
      "source": [
        "print(post_ratingCount['totalValueCount'].quantile(np.arange(.9, 1, .01)))"
      ],
      "execution_count": null,
      "outputs": [
        {
          "output_type": "stream",
          "text": [
            "0.900    7.000\n",
            "0.910    7.000\n",
            "0.920    8.000\n",
            "0.930    8.000\n",
            "0.940    9.000\n",
            "0.950    9.000\n",
            "0.960   10.000\n",
            "0.970   11.000\n",
            "0.980   12.000\n",
            "0.990   13.510\n",
            "Name: totalValueCount, dtype: float64\n"
          ],
          "name": "stdout"
        }
      ]
    },
    {
      "cell_type": "code",
      "metadata": {
        "colab": {
          "base_uri": "https://localhost:8080/",
          "height": 195
        },
        "id": "611mUn7UtyfR",
        "outputId": "0a3f6d72-7caa-431c-a07e-7ee5d9cd9338"
      },
      "source": [
        "popular_threshold = 12\n",
        "rating_popular_post = rating_with_totalValueCount.query('totalValueCount >= @popular_threshold')\n",
        "rating_popular_post.tail()"
      ],
      "execution_count": null,
      "outputs": [
        {
          "output_type": "execute_result",
          "data": {
            "text/html": [
              "<div>\n",
              "<style scoped>\n",
              "    .dataframe tbody tr th:only-of-type {\n",
              "        vertical-align: middle;\n",
              "    }\n",
              "\n",
              "    .dataframe tbody tr th {\n",
              "        vertical-align: top;\n",
              "    }\n",
              "\n",
              "    .dataframe thead th {\n",
              "        text-align: right;\n",
              "    }\n",
              "</style>\n",
              "<table border=\"1\" class=\"dataframe\">\n",
              "  <thead>\n",
              "    <tr style=\"text-align: right;\">\n",
              "      <th></th>\n",
              "      <th>user_id</th>\n",
              "      <th>post_id</th>\n",
              "      <th>Value</th>\n",
              "      <th>title</th>\n",
              "      <th>post_type</th>\n",
              "      <th>totalValueCount</th>\n",
              "    </tr>\n",
              "  </thead>\n",
              "  <tbody>\n",
              "    <tr>\n",
              "      <th>600</th>\n",
              "      <td>5e3563348d344822fed4d13a</td>\n",
              "      <td>5ec2215374f7660d73aa1011</td>\n",
              "      <td>2</td>\n",
              "      <td>Women power</td>\n",
              "      <td>artwork</td>\n",
              "      <td>13</td>\n",
              "    </tr>\n",
              "    <tr>\n",
              "      <th>601</th>\n",
              "      <td>5defd51362624b0135ea9fd2</td>\n",
              "      <td>5ec2215374f7660d73aa1011</td>\n",
              "      <td>2</td>\n",
              "      <td>Women power</td>\n",
              "      <td>artwork</td>\n",
              "      <td>13</td>\n",
              "    </tr>\n",
              "    <tr>\n",
              "      <th>602</th>\n",
              "      <td>5e7cf05bcfc8b713f5ac7db7</td>\n",
              "      <td>5ec2215374f7660d73aa1011</td>\n",
              "      <td>5</td>\n",
              "      <td>Women power</td>\n",
              "      <td>artwork</td>\n",
              "      <td>13</td>\n",
              "    </tr>\n",
              "    <tr>\n",
              "      <th>603</th>\n",
              "      <td>5e35a5ed8d344822fed4d13e</td>\n",
              "      <td>5ec2215374f7660d73aa1011</td>\n",
              "      <td>1</td>\n",
              "      <td>Women power</td>\n",
              "      <td>artwork</td>\n",
              "      <td>13</td>\n",
              "    </tr>\n",
              "    <tr>\n",
              "      <th>604</th>\n",
              "      <td>5d60098a653a331687083238</td>\n",
              "      <td>5ec2215374f7660d73aa1011</td>\n",
              "      <td>4</td>\n",
              "      <td>Women power</td>\n",
              "      <td>artwork</td>\n",
              "      <td>13</td>\n",
              "    </tr>\n",
              "  </tbody>\n",
              "</table>\n",
              "</div>"
            ],
            "text/plain": [
              "                      user_id  ... totalValueCount\n",
              "600  5e3563348d344822fed4d13a  ...              13\n",
              "601  5defd51362624b0135ea9fd2  ...              13\n",
              "602  5e7cf05bcfc8b713f5ac7db7  ...              13\n",
              "603  5e35a5ed8d344822fed4d13e  ...              13\n",
              "604  5d60098a653a331687083238  ...              13\n",
              "\n",
              "[5 rows x 6 columns]"
            ]
          },
          "metadata": {
            "tags": []
          },
          "execution_count": 37
        }
      ]
    },
    {
      "cell_type": "code",
      "metadata": {
        "colab": {
          "base_uri": "https://localhost:8080/"
        },
        "id": "TS6iBzj2t9Qw",
        "outputId": "960d68b4-e946-4a61-9899-7750c88f9a01"
      },
      "source": [
        "rating_popular_post.shape"
      ],
      "execution_count": null,
      "outputs": [
        {
          "output_type": "execute_result",
          "data": {
            "text/plain": [
              "(150, 6)"
            ]
          },
          "metadata": {
            "tags": []
          },
          "execution_count": 38
        }
      ]
    },
    {
      "cell_type": "code",
      "metadata": {
        "colab": {
          "base_uri": "https://localhost:8080/",
          "height": 195
        },
        "id": "6TbCe5ZLt92K",
        "outputId": "cc216cbc-5419-4a07-c2f3-a85497a328b3"
      },
      "source": [
        "user.head()"
      ],
      "execution_count": null,
      "outputs": [
        {
          "output_type": "execute_result",
          "data": {
            "text/html": [
              "<div>\n",
              "<style scoped>\n",
              "    .dataframe tbody tr th:only-of-type {\n",
              "        vertical-align: middle;\n",
              "    }\n",
              "\n",
              "    .dataframe tbody tr th {\n",
              "        vertical-align: top;\n",
              "    }\n",
              "\n",
              "    .dataframe thead th {\n",
              "        text-align: right;\n",
              "    }\n",
              "</style>\n",
              "<table border=\"1\" class=\"dataframe\">\n",
              "  <thead>\n",
              "    <tr style=\"text-align: right;\">\n",
              "      <th></th>\n",
              "      <th>user_id</th>\n",
              "      <th>name</th>\n",
              "      <th>gender</th>\n",
              "      <th>academics</th>\n",
              "    </tr>\n",
              "  </thead>\n",
              "  <tbody>\n",
              "    <tr>\n",
              "      <th>0</th>\n",
              "      <td>5d60098a653a331687083238</td>\n",
              "      <td>Nivesh Singh Chauhan</td>\n",
              "      <td>male</td>\n",
              "      <td>undergraduate</td>\n",
              "    </tr>\n",
              "    <tr>\n",
              "      <th>1</th>\n",
              "      <td>5d610ae1653a331687083239</td>\n",
              "      <td>Gaurav Sharma</td>\n",
              "      <td>male</td>\n",
              "      <td>graduate</td>\n",
              "    </tr>\n",
              "    <tr>\n",
              "      <th>2</th>\n",
              "      <td>5d618359fc5fcf3bdd9a0910</td>\n",
              "      <td>Akshay Mishra</td>\n",
              "      <td>male</td>\n",
              "      <td>undergraduate</td>\n",
              "    </tr>\n",
              "    <tr>\n",
              "      <th>3</th>\n",
              "      <td>5d6d2bb87fa40e1417a49315</td>\n",
              "      <td>Saksham Mathur</td>\n",
              "      <td>male</td>\n",
              "      <td>undergraduate</td>\n",
              "    </tr>\n",
              "    <tr>\n",
              "      <th>4</th>\n",
              "      <td>5d7c994d5720533e15c3b1e9</td>\n",
              "      <td>Varun Chowhan</td>\n",
              "      <td>male</td>\n",
              "      <td>undergraduate</td>\n",
              "    </tr>\n",
              "  </tbody>\n",
              "</table>\n",
              "</div>"
            ],
            "text/plain": [
              "                    user_id                  name gender      academics\n",
              "0  5d60098a653a331687083238  Nivesh Singh Chauhan   male  undergraduate\n",
              "1  5d610ae1653a331687083239         Gaurav Sharma   male       graduate\n",
              "2  5d618359fc5fcf3bdd9a0910         Akshay Mishra   male  undergraduate\n",
              "3  5d6d2bb87fa40e1417a49315        Saksham Mathur   male  undergraduate\n",
              "4  5d7c994d5720533e15c3b1e9         Varun Chowhan   male  undergraduate"
            ]
          },
          "metadata": {
            "tags": []
          },
          "execution_count": 39
        }
      ]
    },
    {
      "cell_type": "code",
      "metadata": {
        "colab": {
          "base_uri": "https://localhost:8080/"
        },
        "id": "KYLR4qepuIKr",
        "outputId": "a75f7428-4ee2-471c-e985-4720b095db03"
      },
      "source": [
        "from scipy.sparse import csr_matrix\n",
        "rating_popular_post = rating_popular_post.drop_duplicates(['user_id', 'title'])\n",
        "rating_popular_post_pivot = rating_popular_post.pivot(index = 'title', columns = 'user_id', values = 'Value').fillna(0)\n",
        "rating_popular_post_matrix = csr_matrix(rating_popular_post_pivot.values)\n",
        "\n",
        "from sklearn.neighbors import NearestNeighbors\n",
        "\n",
        "\n",
        "model_knn = NearestNeighbors(metric = 'cosine', algorithm = 'brute')\n",
        "model_knn.fit(rating_popular_post_matrix)"
      ],
      "execution_count": null,
      "outputs": [
        {
          "output_type": "execute_result",
          "data": {
            "text/plain": [
              "NearestNeighbors(algorithm='brute', leaf_size=30, metric='cosine',\n",
              "                 metric_params=None, n_jobs=None, n_neighbors=5, p=2,\n",
              "                 radius=1.0)"
            ]
          },
          "metadata": {
            "tags": []
          },
          "execution_count": 40
        }
      ]
    },
    {
      "cell_type": "code",
      "metadata": {
        "colab": {
          "base_uri": "https://localhost:8080/"
        },
        "id": "thkppwRbuT3C",
        "outputId": "ced8af8a-59be-4675-9d22-40c15219aa90"
      },
      "source": [
        "rating_popular_post_pivot.shape[0]"
      ],
      "execution_count": null,
      "outputs": [
        {
          "output_type": "execute_result",
          "data": {
            "text/plain": [
              "11"
            ]
          },
          "metadata": {
            "tags": []
          },
          "execution_count": 41
        }
      ]
    },
    {
      "cell_type": "code",
      "metadata": {
        "colab": {
          "base_uri": "https://localhost:8080/",
          "height": 523
        },
        "id": "RVvTwYG6uV38",
        "outputId": "56ccc974-5e9c-4181-a668-0a0e238bed4d"
      },
      "source": [
        "rating_popular_post_pivot"
      ],
      "execution_count": null,
      "outputs": [
        {
          "output_type": "execute_result",
          "data": {
            "text/html": [
              "<div>\n",
              "<style scoped>\n",
              "    .dataframe tbody tr th:only-of-type {\n",
              "        vertical-align: middle;\n",
              "    }\n",
              "\n",
              "    .dataframe tbody tr th {\n",
              "        vertical-align: top;\n",
              "    }\n",
              "\n",
              "    .dataframe thead th {\n",
              "        text-align: right;\n",
              "    }\n",
              "</style>\n",
              "<table border=\"1\" class=\"dataframe\">\n",
              "  <thead>\n",
              "    <tr style=\"text-align: right;\">\n",
              "      <th>user_id</th>\n",
              "      <th>5d60098a653a331687083238</th>\n",
              "      <th>5d610ae1653a331687083239</th>\n",
              "      <th>5d618359fc5fcf3bdd9a0910</th>\n",
              "      <th>5d6d2bb87fa40e1417a49315</th>\n",
              "      <th>5d7c994d5720533e15c3b1e9</th>\n",
              "      <th>5de50d768eab6401affbb135</th>\n",
              "      <th>5deeef6142a8854bf6eabab9</th>\n",
              "      <th>5defd51362624b0135ea9fd2</th>\n",
              "      <th>5df20f1fee4bb5252b4f5351</th>\n",
              "      <th>5df49b32cc709107827fb3c7</th>\n",
              "      <th>5e1ef04c2a37d20505da2b8b</th>\n",
              "      <th>5e3563348d344822fed4d13a</th>\n",
              "      <th>5e35a5ed8d344822fed4d13e</th>\n",
              "      <th>5e37b16ceab55d319938a6f8</th>\n",
              "      <th>5e4195c3eab55d319938a82c</th>\n",
              "      <th>5e5af599d701ab08af792b63</th>\n",
              "      <th>5e7b30a6cfc8b713f5ac7d95</th>\n",
              "      <th>5e7cf05bcfc8b713f5ac7db7</th>\n",
              "      <th>5eb2cad810426255a7aaa072</th>\n",
              "      <th>5eb508ae10426255a7aaa12c</th>\n",
              "      <th>5ec11abc74f7660d73aa0fbd</th>\n",
              "      <th>5ec2204374f7660d73aa100f</th>\n",
              "      <th>5ec3ba5374f7660d73aa1201</th>\n",
              "      <th>5ecb979eeaff6b0c3a58a4f0</th>\n",
              "      <th>5ecdf7397023451e66223784</th>\n",
              "      <th>5ece02427023451e66223861</th>\n",
              "      <th>5ecfbcb376027d35905cbfe5</th>\n",
              "      <th>5ed0bfc176027d35905cc1f8</th>\n",
              "      <th>5ed0cfc676027d35905cc26a</th>\n",
              "      <th>5ed0d9bc76027d35905cc2c2</th>\n",
              "      <th>5ed0defa76027d35905cc2de</th>\n",
              "      <th>5ed0dfec76027d35905cc2ec</th>\n",
              "      <th>5ed0fc0976027d35905cc448</th>\n",
              "      <th>5ed12ae476027d35905cc4a1</th>\n",
              "      <th>5ed232b976027d35905cc689</th>\n",
              "      <th>5ed24d5a76027d35905cc7d7</th>\n",
              "      <th>5ed2edf176027d35905cc961</th>\n",
              "      <th>5ed350ed76027d35905cca2c</th>\n",
              "      <th>5ed3737976027d35905ccaa2</th>\n",
              "      <th>5ed3cbcbbd514d602c1530a7</th>\n",
              "    </tr>\n",
              "    <tr>\n",
              "      <th>title</th>\n",
              "      <th></th>\n",
              "      <th></th>\n",
              "      <th></th>\n",
              "      <th></th>\n",
              "      <th></th>\n",
              "      <th></th>\n",
              "      <th></th>\n",
              "      <th></th>\n",
              "      <th></th>\n",
              "      <th></th>\n",
              "      <th></th>\n",
              "      <th></th>\n",
              "      <th></th>\n",
              "      <th></th>\n",
              "      <th></th>\n",
              "      <th></th>\n",
              "      <th></th>\n",
              "      <th></th>\n",
              "      <th></th>\n",
              "      <th></th>\n",
              "      <th></th>\n",
              "      <th></th>\n",
              "      <th></th>\n",
              "      <th></th>\n",
              "      <th></th>\n",
              "      <th></th>\n",
              "      <th></th>\n",
              "      <th></th>\n",
              "      <th></th>\n",
              "      <th></th>\n",
              "      <th></th>\n",
              "      <th></th>\n",
              "      <th></th>\n",
              "      <th></th>\n",
              "      <th></th>\n",
              "      <th></th>\n",
              "      <th></th>\n",
              "      <th></th>\n",
              "      <th></th>\n",
              "      <th></th>\n",
              "    </tr>\n",
              "  </thead>\n",
              "  <tbody>\n",
              "    <tr>\n",
              "      <th>AWS services and how to launch OS on AWS Cloud</th>\n",
              "      <td>1.000</td>\n",
              "      <td>0.000</td>\n",
              "      <td>1.000</td>\n",
              "      <td>0.000</td>\n",
              "      <td>1.000</td>\n",
              "      <td>0.000</td>\n",
              "      <td>0.000</td>\n",
              "      <td>0.000</td>\n",
              "      <td>0.000</td>\n",
              "      <td>0.000</td>\n",
              "      <td>0.000</td>\n",
              "      <td>0.000</td>\n",
              "      <td>0.000</td>\n",
              "      <td>0.000</td>\n",
              "      <td>0.000</td>\n",
              "      <td>0.000</td>\n",
              "      <td>0.000</td>\n",
              "      <td>0.000</td>\n",
              "      <td>0.000</td>\n",
              "      <td>0.000</td>\n",
              "      <td>0.000</td>\n",
              "      <td>0.000</td>\n",
              "      <td>0.000</td>\n",
              "      <td>5.000</td>\n",
              "      <td>0.000</td>\n",
              "      <td>2.000</td>\n",
              "      <td>0.000</td>\n",
              "      <td>1.000</td>\n",
              "      <td>1.000</td>\n",
              "      <td>0.000</td>\n",
              "      <td>4.000</td>\n",
              "      <td>0.000</td>\n",
              "      <td>0.000</td>\n",
              "      <td>0.000</td>\n",
              "      <td>0.000</td>\n",
              "      <td>0.000</td>\n",
              "      <td>1.000</td>\n",
              "      <td>4.000</td>\n",
              "      <td>3.000</td>\n",
              "      <td>4.000</td>\n",
              "    </tr>\n",
              "    <tr>\n",
              "      <th>Art Expo 2020</th>\n",
              "      <td>0.000</td>\n",
              "      <td>2.000</td>\n",
              "      <td>0.000</td>\n",
              "      <td>2.000</td>\n",
              "      <td>1.000</td>\n",
              "      <td>2.000</td>\n",
              "      <td>5.000</td>\n",
              "      <td>3.000</td>\n",
              "      <td>0.000</td>\n",
              "      <td>4.000</td>\n",
              "      <td>5.000</td>\n",
              "      <td>5.000</td>\n",
              "      <td>0.000</td>\n",
              "      <td>0.000</td>\n",
              "      <td>0.000</td>\n",
              "      <td>3.000</td>\n",
              "      <td>0.000</td>\n",
              "      <td>5.000</td>\n",
              "      <td>0.000</td>\n",
              "      <td>0.000</td>\n",
              "      <td>0.000</td>\n",
              "      <td>0.000</td>\n",
              "      <td>4.000</td>\n",
              "      <td>0.000</td>\n",
              "      <td>0.000</td>\n",
              "      <td>0.000</td>\n",
              "      <td>0.000</td>\n",
              "      <td>0.000</td>\n",
              "      <td>0.000</td>\n",
              "      <td>0.000</td>\n",
              "      <td>0.000</td>\n",
              "      <td>0.000</td>\n",
              "      <td>0.000</td>\n",
              "      <td>0.000</td>\n",
              "      <td>0.000</td>\n",
              "      <td>0.000</td>\n",
              "      <td>0.000</td>\n",
              "      <td>0.000</td>\n",
              "      <td>0.000</td>\n",
              "      <td>0.000</td>\n",
              "    </tr>\n",
              "    <tr>\n",
              "      <th>Daaku</th>\n",
              "      <td>5.000</td>\n",
              "      <td>2.000</td>\n",
              "      <td>4.000</td>\n",
              "      <td>4.000</td>\n",
              "      <td>4.000</td>\n",
              "      <td>5.000</td>\n",
              "      <td>1.000</td>\n",
              "      <td>4.000</td>\n",
              "      <td>3.000</td>\n",
              "      <td>5.000</td>\n",
              "      <td>0.000</td>\n",
              "      <td>1.000</td>\n",
              "      <td>1.000</td>\n",
              "      <td>3.000</td>\n",
              "      <td>0.000</td>\n",
              "      <td>4.000</td>\n",
              "      <td>0.000</td>\n",
              "      <td>4.000</td>\n",
              "      <td>4.000</td>\n",
              "      <td>0.000</td>\n",
              "      <td>0.000</td>\n",
              "      <td>3.000</td>\n",
              "      <td>1.000</td>\n",
              "      <td>0.000</td>\n",
              "      <td>0.000</td>\n",
              "      <td>0.000</td>\n",
              "      <td>0.000</td>\n",
              "      <td>0.000</td>\n",
              "      <td>0.000</td>\n",
              "      <td>0.000</td>\n",
              "      <td>0.000</td>\n",
              "      <td>0.000</td>\n",
              "      <td>0.000</td>\n",
              "      <td>0.000</td>\n",
              "      <td>0.000</td>\n",
              "      <td>0.000</td>\n",
              "      <td>0.000</td>\n",
              "      <td>0.000</td>\n",
              "      <td>0.000</td>\n",
              "      <td>0.000</td>\n",
              "    </tr>\n",
              "    <tr>\n",
              "      <th>Faith in yourself</th>\n",
              "      <td>0.000</td>\n",
              "      <td>3.000</td>\n",
              "      <td>1.000</td>\n",
              "      <td>3.000</td>\n",
              "      <td>5.000</td>\n",
              "      <td>4.000</td>\n",
              "      <td>2.000</td>\n",
              "      <td>5.000</td>\n",
              "      <td>1.000</td>\n",
              "      <td>0.000</td>\n",
              "      <td>0.000</td>\n",
              "      <td>5.000</td>\n",
              "      <td>4.000</td>\n",
              "      <td>0.000</td>\n",
              "      <td>0.000</td>\n",
              "      <td>1.000</td>\n",
              "      <td>0.000</td>\n",
              "      <td>0.000</td>\n",
              "      <td>5.000</td>\n",
              "      <td>0.000</td>\n",
              "      <td>0.000</td>\n",
              "      <td>0.000</td>\n",
              "      <td>5.000</td>\n",
              "      <td>1.000</td>\n",
              "      <td>0.000</td>\n",
              "      <td>0.000</td>\n",
              "      <td>0.000</td>\n",
              "      <td>0.000</td>\n",
              "      <td>0.000</td>\n",
              "      <td>0.000</td>\n",
              "      <td>0.000</td>\n",
              "      <td>0.000</td>\n",
              "      <td>0.000</td>\n",
              "      <td>0.000</td>\n",
              "      <td>0.000</td>\n",
              "      <td>0.000</td>\n",
              "      <td>0.000</td>\n",
              "      <td>0.000</td>\n",
              "      <td>0.000</td>\n",
              "      <td>0.000</td>\n",
              "    </tr>\n",
              "    <tr>\n",
              "      <th>Gangster Style</th>\n",
              "      <td>4.000</td>\n",
              "      <td>2.000</td>\n",
              "      <td>0.000</td>\n",
              "      <td>3.000</td>\n",
              "      <td>1.000</td>\n",
              "      <td>0.000</td>\n",
              "      <td>0.000</td>\n",
              "      <td>0.000</td>\n",
              "      <td>2.000</td>\n",
              "      <td>4.000</td>\n",
              "      <td>0.000</td>\n",
              "      <td>0.000</td>\n",
              "      <td>0.000</td>\n",
              "      <td>4.000</td>\n",
              "      <td>2.000</td>\n",
              "      <td>0.000</td>\n",
              "      <td>0.000</td>\n",
              "      <td>2.000</td>\n",
              "      <td>0.000</td>\n",
              "      <td>5.000</td>\n",
              "      <td>0.000</td>\n",
              "      <td>0.000</td>\n",
              "      <td>0.000</td>\n",
              "      <td>0.000</td>\n",
              "      <td>0.000</td>\n",
              "      <td>0.000</td>\n",
              "      <td>0.000</td>\n",
              "      <td>0.000</td>\n",
              "      <td>0.000</td>\n",
              "      <td>0.000</td>\n",
              "      <td>0.000</td>\n",
              "      <td>0.000</td>\n",
              "      <td>0.000</td>\n",
              "      <td>0.000</td>\n",
              "      <td>0.000</td>\n",
              "      <td>0.000</td>\n",
              "      <td>0.000</td>\n",
              "      <td>0.000</td>\n",
              "      <td>0.000</td>\n",
              "      <td>0.000</td>\n",
              "    </tr>\n",
              "    <tr>\n",
              "      <th>HUMAN ILLUSTRATION</th>\n",
              "      <td>2.000</td>\n",
              "      <td>0.000</td>\n",
              "      <td>0.000</td>\n",
              "      <td>4.000</td>\n",
              "      <td>5.000</td>\n",
              "      <td>4.000</td>\n",
              "      <td>1.000</td>\n",
              "      <td>3.000</td>\n",
              "      <td>0.000</td>\n",
              "      <td>0.000</td>\n",
              "      <td>1.000</td>\n",
              "      <td>1.000</td>\n",
              "      <td>0.000</td>\n",
              "      <td>0.000</td>\n",
              "      <td>0.000</td>\n",
              "      <td>3.000</td>\n",
              "      <td>0.000</td>\n",
              "      <td>5.000</td>\n",
              "      <td>0.000</td>\n",
              "      <td>0.000</td>\n",
              "      <td>0.000</td>\n",
              "      <td>0.000</td>\n",
              "      <td>1.000</td>\n",
              "      <td>0.000</td>\n",
              "      <td>0.000</td>\n",
              "      <td>0.000</td>\n",
              "      <td>0.000</td>\n",
              "      <td>0.000</td>\n",
              "      <td>0.000</td>\n",
              "      <td>0.000</td>\n",
              "      <td>0.000</td>\n",
              "      <td>0.000</td>\n",
              "      <td>0.000</td>\n",
              "      <td>0.000</td>\n",
              "      <td>0.000</td>\n",
              "      <td>0.000</td>\n",
              "      <td>0.000</td>\n",
              "      <td>3.000</td>\n",
              "      <td>0.000</td>\n",
              "      <td>0.000</td>\n",
              "    </tr>\n",
              "    <tr>\n",
              "      <th>Machine Learning”&amp;“Operations\" (MlOps)</th>\n",
              "      <td>3.000</td>\n",
              "      <td>3.000</td>\n",
              "      <td>0.000</td>\n",
              "      <td>2.000</td>\n",
              "      <td>3.000</td>\n",
              "      <td>3.000</td>\n",
              "      <td>5.000</td>\n",
              "      <td>3.000</td>\n",
              "      <td>0.000</td>\n",
              "      <td>1.000</td>\n",
              "      <td>0.000</td>\n",
              "      <td>0.000</td>\n",
              "      <td>0.000</td>\n",
              "      <td>0.000</td>\n",
              "      <td>0.000</td>\n",
              "      <td>2.000</td>\n",
              "      <td>0.000</td>\n",
              "      <td>5.000</td>\n",
              "      <td>0.000</td>\n",
              "      <td>0.000</td>\n",
              "      <td>0.000</td>\n",
              "      <td>0.000</td>\n",
              "      <td>2.000</td>\n",
              "      <td>2.000</td>\n",
              "      <td>3.000</td>\n",
              "      <td>0.000</td>\n",
              "      <td>5.000</td>\n",
              "      <td>5.000</td>\n",
              "      <td>0.000</td>\n",
              "      <td>0.000</td>\n",
              "      <td>0.000</td>\n",
              "      <td>0.000</td>\n",
              "      <td>0.000</td>\n",
              "      <td>0.000</td>\n",
              "      <td>4.000</td>\n",
              "      <td>0.000</td>\n",
              "      <td>0.000</td>\n",
              "      <td>0.000</td>\n",
              "      <td>0.000</td>\n",
              "      <td>0.000</td>\n",
              "    </tr>\n",
              "    <tr>\n",
              "      <th>Ruins.</th>\n",
              "      <td>3.000</td>\n",
              "      <td>4.000</td>\n",
              "      <td>0.000</td>\n",
              "      <td>5.000</td>\n",
              "      <td>4.000</td>\n",
              "      <td>0.000</td>\n",
              "      <td>5.000</td>\n",
              "      <td>3.000</td>\n",
              "      <td>0.000</td>\n",
              "      <td>5.000</td>\n",
              "      <td>1.000</td>\n",
              "      <td>3.000</td>\n",
              "      <td>0.000</td>\n",
              "      <td>0.000</td>\n",
              "      <td>0.000</td>\n",
              "      <td>3.000</td>\n",
              "      <td>0.000</td>\n",
              "      <td>2.000</td>\n",
              "      <td>0.000</td>\n",
              "      <td>0.000</td>\n",
              "      <td>0.000</td>\n",
              "      <td>0.000</td>\n",
              "      <td>3.000</td>\n",
              "      <td>0.000</td>\n",
              "      <td>0.000</td>\n",
              "      <td>0.000</td>\n",
              "      <td>0.000</td>\n",
              "      <td>0.000</td>\n",
              "      <td>0.000</td>\n",
              "      <td>0.000</td>\n",
              "      <td>0.000</td>\n",
              "      <td>0.000</td>\n",
              "      <td>0.000</td>\n",
              "      <td>0.000</td>\n",
              "      <td>0.000</td>\n",
              "      <td>0.000</td>\n",
              "      <td>0.000</td>\n",
              "      <td>0.000</td>\n",
              "      <td>0.000</td>\n",
              "      <td>0.000</td>\n",
              "    </tr>\n",
              "    <tr>\n",
              "      <th>The Waves Have Stood Still</th>\n",
              "      <td>1.000</td>\n",
              "      <td>3.000</td>\n",
              "      <td>0.000</td>\n",
              "      <td>2.000</td>\n",
              "      <td>5.000</td>\n",
              "      <td>4.000</td>\n",
              "      <td>4.000</td>\n",
              "      <td>1.000</td>\n",
              "      <td>0.000</td>\n",
              "      <td>0.000</td>\n",
              "      <td>0.000</td>\n",
              "      <td>1.000</td>\n",
              "      <td>2.000</td>\n",
              "      <td>0.000</td>\n",
              "      <td>0.000</td>\n",
              "      <td>4.000</td>\n",
              "      <td>3.000</td>\n",
              "      <td>4.000</td>\n",
              "      <td>0.000</td>\n",
              "      <td>0.000</td>\n",
              "      <td>0.000</td>\n",
              "      <td>0.000</td>\n",
              "      <td>2.000</td>\n",
              "      <td>1.000</td>\n",
              "      <td>0.000</td>\n",
              "      <td>0.000</td>\n",
              "      <td>0.000</td>\n",
              "      <td>0.000</td>\n",
              "      <td>0.000</td>\n",
              "      <td>0.000</td>\n",
              "      <td>0.000</td>\n",
              "      <td>0.000</td>\n",
              "      <td>0.000</td>\n",
              "      <td>0.000</td>\n",
              "      <td>0.000</td>\n",
              "      <td>0.000</td>\n",
              "      <td>0.000</td>\n",
              "      <td>0.000</td>\n",
              "      <td>0.000</td>\n",
              "      <td>0.000</td>\n",
              "    </tr>\n",
              "    <tr>\n",
              "      <th>Understanding Cloud Computing(AWS)</th>\n",
              "      <td>2.000</td>\n",
              "      <td>0.000</td>\n",
              "      <td>5.000</td>\n",
              "      <td>0.000</td>\n",
              "      <td>0.000</td>\n",
              "      <td>0.000</td>\n",
              "      <td>4.000</td>\n",
              "      <td>0.000</td>\n",
              "      <td>0.000</td>\n",
              "      <td>0.000</td>\n",
              "      <td>0.000</td>\n",
              "      <td>0.000</td>\n",
              "      <td>0.000</td>\n",
              "      <td>0.000</td>\n",
              "      <td>0.000</td>\n",
              "      <td>0.000</td>\n",
              "      <td>0.000</td>\n",
              "      <td>0.000</td>\n",
              "      <td>0.000</td>\n",
              "      <td>0.000</td>\n",
              "      <td>0.000</td>\n",
              "      <td>0.000</td>\n",
              "      <td>0.000</td>\n",
              "      <td>1.000</td>\n",
              "      <td>4.000</td>\n",
              "      <td>4.000</td>\n",
              "      <td>0.000</td>\n",
              "      <td>5.000</td>\n",
              "      <td>0.000</td>\n",
              "      <td>2.000</td>\n",
              "      <td>0.000</td>\n",
              "      <td>5.000</td>\n",
              "      <td>4.000</td>\n",
              "      <td>5.000</td>\n",
              "      <td>4.000</td>\n",
              "      <td>2.000</td>\n",
              "      <td>0.000</td>\n",
              "      <td>0.000</td>\n",
              "      <td>0.000</td>\n",
              "      <td>0.000</td>\n",
              "    </tr>\n",
              "    <tr>\n",
              "      <th>Women power</th>\n",
              "      <td>4.000</td>\n",
              "      <td>0.000</td>\n",
              "      <td>0.000</td>\n",
              "      <td>4.000</td>\n",
              "      <td>5.000</td>\n",
              "      <td>0.000</td>\n",
              "      <td>5.000</td>\n",
              "      <td>2.000</td>\n",
              "      <td>0.000</td>\n",
              "      <td>2.000</td>\n",
              "      <td>0.000</td>\n",
              "      <td>2.000</td>\n",
              "      <td>1.000</td>\n",
              "      <td>0.000</td>\n",
              "      <td>0.000</td>\n",
              "      <td>3.000</td>\n",
              "      <td>0.000</td>\n",
              "      <td>5.000</td>\n",
              "      <td>0.000</td>\n",
              "      <td>0.000</td>\n",
              "      <td>4.000</td>\n",
              "      <td>2.000</td>\n",
              "      <td>2.000</td>\n",
              "      <td>0.000</td>\n",
              "      <td>0.000</td>\n",
              "      <td>0.000</td>\n",
              "      <td>0.000</td>\n",
              "      <td>0.000</td>\n",
              "      <td>0.000</td>\n",
              "      <td>0.000</td>\n",
              "      <td>0.000</td>\n",
              "      <td>0.000</td>\n",
              "      <td>0.000</td>\n",
              "      <td>0.000</td>\n",
              "      <td>0.000</td>\n",
              "      <td>0.000</td>\n",
              "      <td>0.000</td>\n",
              "      <td>0.000</td>\n",
              "      <td>0.000</td>\n",
              "      <td>0.000</td>\n",
              "    </tr>\n",
              "  </tbody>\n",
              "</table>\n",
              "</div>"
            ],
            "text/plain": [
              "user_id                                         5d60098a653a331687083238  ...  5ed3cbcbbd514d602c1530a7\n",
              "title                                                                     ...                          \n",
              "AWS services and how to launch OS on AWS Cloud                     1.000  ...                     4.000\n",
              "Art Expo 2020                                                      0.000  ...                     0.000\n",
              "Daaku                                                              5.000  ...                     0.000\n",
              "Faith in yourself                                                  0.000  ...                     0.000\n",
              "Gangster Style                                                     4.000  ...                     0.000\n",
              "HUMAN ILLUSTRATION                                                 2.000  ...                     0.000\n",
              "Machine Learning”&“Operations\" (MlOps)                             3.000  ...                     0.000\n",
              "Ruins.                                                             3.000  ...                     0.000\n",
              "The Waves Have Stood Still                                         1.000  ...                     0.000\n",
              "Understanding Cloud Computing(AWS)                                 2.000  ...                     0.000\n",
              "Women power                                                        4.000  ...                     0.000\n",
              "\n",
              "[11 rows x 40 columns]"
            ]
          },
          "metadata": {
            "tags": []
          },
          "execution_count": 42
        }
      ]
    },
    {
      "cell_type": "code",
      "metadata": {
        "colab": {
          "base_uri": "https://localhost:8080/"
        },
        "id": "c8Q7M3-FuXk5",
        "outputId": "4e36ff8b-515c-46ff-9bcd-be8d2ba7d31a"
      },
      "source": [
        "query_index = np.random.choice(rating_popular_post_pivot.shape[0])\n",
        "print(query_index)\n",
        "distances, indices = model_knn.kneighbors(rating_popular_post_pivot.iloc[query_index,:].values.reshape(1, -1), n_neighbors = 6)"
      ],
      "execution_count": null,
      "outputs": [
        {
          "output_type": "stream",
          "text": [
            "8\n"
          ],
          "name": "stdout"
        }
      ]
    },
    {
      "cell_type": "code",
      "metadata": {
        "colab": {
          "base_uri": "https://localhost:8080/",
          "height": 35
        },
        "id": "Jd5I6yIGubrM",
        "outputId": "9aece144-865b-436c-accc-4f68c224a30a"
      },
      "source": [
        "rating_popular_post_pivot.index[query_index]"
      ],
      "execution_count": null,
      "outputs": [
        {
          "output_type": "execute_result",
          "data": {
            "application/vnd.google.colaboratory.intrinsic+json": {
              "type": "string"
            },
            "text/plain": [
              "'The Waves Have Stood Still'"
            ]
          },
          "metadata": {
            "tags": []
          },
          "execution_count": 44
        }
      ]
    },
    {
      "cell_type": "code",
      "metadata": {
        "colab": {
          "base_uri": "https://localhost:8080/"
        },
        "id": "TysptPvLudp5",
        "outputId": "8af3f3eb-02cf-46fa-b1f3-fff23931e6b7"
      },
      "source": [
        "for i in range(0, len(distances.flatten())):\n",
        "    if i == 0:\n",
        "        print('Recommendations for {0}:\\n'.format(rating_popular_post_pivot.index[query_index]))\n",
        "    else:\n",
        "        print('{0}: {1}, with distance of {2}:'.format(i, rating_popular_post_pivot.index[indices.flatten()[i]], distances.flatten()[i]))"
      ],
      "execution_count": null,
      "outputs": [
        {
          "output_type": "stream",
          "text": [
            "Recommendations for The Waves Have Stood Still:\n",
            "\n",
            "1: HUMAN ILLUSTRATION, with distance of 0.2247576989154494:\n",
            "2: Women power, with distance of 0.27833287221285263:\n",
            "3: Ruins., with distance of 0.30197761173573356:\n",
            "4: Machine Learning”&“Operations\" (MlOps), with distance of 0.3406338604949225:\n",
            "5: Faith in yourself, with distance of 0.3534626278795955:\n"
          ],
          "name": "stdout"
        }
      ]
    }
  ]
}